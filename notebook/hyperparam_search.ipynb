{
 "cells": [
  {
   "cell_type": "code",
   "execution_count": 1,
   "metadata": {
    "ExecuteTime": {
     "end_time": "2024-06-06T12:33:18.162188Z",
     "start_time": "2024-06-06T12:33:18.155786Z"
    }
   },
   "outputs": [
    {
     "name": "stdout",
     "output_type": "stream",
     "text": [
      "env: AWS_ACCESS_KEY_ID=minio\n",
      "env: AWS_SECRET_ACCESS_KEY=minio123\n",
      "env: MLFLOW_S3_ENDPOINT_URL=http://localhost:9000\n",
      "env: AWS_ENDPOINT_URL_S3=http://localhost:9000\n"
     ]
    }
   ],
   "source": [
    "import awswrangler as wr\n",
    "import mlflow\n",
    "\n",
    "%env AWS_ACCESS_KEY_ID=minio   \n",
    "%env AWS_SECRET_ACCESS_KEY=minio123 \n",
    "%env MLFLOW_S3_ENDPOINT_URL=http://localhost:9000\n",
    "%env AWS_ENDPOINT_URL_S3=http://localhost:9000"
   ]
  },
  {
   "cell_type": "markdown",
   "metadata": {},
   "source": [
    "# Búsqueda de mejor modelo e hiperparámetros\n",
    "\n",
    "Dado nuestro dataset, el cual ya pasó por el proceso de ETL y se encuentra en nuestro S3 bucket, vamos a realizar una búsqueda de cual seria el mejor modelo y que hiperparametros usar.\n",
    "\n",
    "La búsqueda de hiperparametros la haremos usando Optuna y el tracking será realizado mediante MLFlow.\n",
    "\n",
    "OBS: Para la confección de esta notebook, nos basamos en el tutorial de [MLFlow](https://mlflow.org/docs/latest/traditional-ml/hyperparameter-tuning-with-child-runs/notebooks/index.html)."
   ]
  },
  {
   "cell_type": "code",
   "execution_count": 2,
   "metadata": {
    "ExecuteTime": {
     "end_time": "2024-06-06T12:33:21.563179Z",
     "start_time": "2024-06-06T12:33:21.560951Z"
    }
   },
   "outputs": [],
   "source": [
    "mlflow_server = \"http://localhost:5000\"\n",
    "\n",
    "mlflow.set_tracking_uri(mlflow_server)"
   ]
  },
  {
   "cell_type": "code",
   "execution_count": 3,
   "metadata": {
    "ExecuteTime": {
     "end_time": "2024-06-06T12:33:22.668794Z",
     "start_time": "2024-06-06T12:33:22.215467Z"
    }
   },
   "outputs": [],
   "source": [
    "# Cargamos los datos\n",
    "X_train =  wr.s3.read_csv(\"s3://data/train/X_train.csv\")\n",
    "y_train =  wr.s3.read_csv(\"s3://data/train/y_train.csv\")\n",
    "\n",
    "X_test =  wr.s3.read_csv(\"s3://data/test/X_test.csv\")\n",
    "y_test =  wr.s3.read_csv(\"s3://data/test/y_test.csv\")"
   ]
  },
  {
   "cell_type": "markdown",
   "metadata": {},
   "source": [
    "## Investigamos la correlación de features con la variable objetivo\n",
    "\n",
    "Antes de profundizar en el proceso de construcción de modelo, es esencial comprender las relaciones entre nuestras features  y la variable objetivo. Por lo que vamos a realizar un gráfico que indica el coeficiente de correlación de cada feature en relación con la variable objetivo. Esto nos sirve para:\n",
    "\n",
    "- Evitar data leakage: Debemos asegurarnos de que ninguna característica se correlacione perfectamente con el objetivo (un coeficiente de correlación de aproximadamente 1.0). Si existe tal correlación, es una señal de que nuestro conjunto de datos podría estar \"filtrando\" información sobre el objetivo. \n",
    "\n",
    "- Garantizar relaciones significativas: Idealmente, nuestras características deberían tener algún grado de correlación con el objetivo. Inclusive si estamos trabajando con un problema de clasificación, aunque los resultados no son tan importantes como en un caso de regresión.\n",
    "\n",
    "- Auditoría y trazabilidad: Loggear esta visualización de correlación con nuestra ejecución principal de MLflow garantiza la trazabilidad. Proporciona una instantánea de las características de los datos en el momento del entrenamiento del modelo, lo cual es invaluable para propósitos de auditoría y replicabilidad."
   ]
  },
  {
   "cell_type": "code",
   "execution_count": 4,
   "metadata": {
    "ExecuteTime": {
     "end_time": "2024-06-06T12:33:29.152729Z",
     "start_time": "2024-06-06T12:33:26.288918Z"
    }
   },
   "outputs": [],
   "source": [
    "from plots import plot_correlation_with_target, plot_information_gain_with_target"
   ]
  },
  {
   "cell_type": "code",
   "execution_count": 5,
   "metadata": {
    "ExecuteTime": {
     "end_time": "2024-06-06T12:33:29.957355Z",
     "start_time": "2024-06-06T12:33:29.776398Z"
    }
   },
   "outputs": [],
   "source": [
    "# Dado que estamos usando como tracking a MLFlow, mostrar los gráficos aquí no tiene sentido.\n",
    "correlation_plot = plot_correlation_with_target(X_train, y_train, target_col=\"cantidad_robos_log\")\n",
    "information_gain_plot = plot_information_gain_with_target(X_train, y_train, target_col=\"cantidad_robos_log\")"
   ]
  },
  {
   "cell_type": "markdown",
   "metadata": {},
   "source": [
    "## Arrancamos a experimentar"
   ]
  },
  {
   "cell_type": "code",
   "execution_count": 6,
   "metadata": {
    "ExecuteTime": {
     "end_time": "2024-06-06T12:33:31.839716Z",
     "start_time": "2024-06-06T12:33:31.179611Z"
    }
   },
   "outputs": [
    {
     "name": "stderr",
     "output_type": "stream",
     "text": [
      "c:\\Users\\masso\\OneDrive\\Escritorio\\amq2-tp-final\\.venv\\lib\\site-packages\\tqdm\\auto.py:21: TqdmWarning: IProgress not found. Please update jupyter and ipywidgets. See https://ipywidgets.readthedocs.io/en/stable/user_install.html\n",
      "  from .autonotebook import tqdm as notebook_tqdm\n"
     ]
    }
   ],
   "source": [
    "import datetime\n",
    "import optuna\n",
    "\n",
    "from mlflow.models import infer_signature\n",
    "from mlflow_aux import get_or_create_experiment\n",
    "\n",
    "from optuna_aux import champion_callback, objective\n",
    "\n",
    "from sklearn.linear_model import LinearRegression, Ridge\n",
    "from sklearn.svm import SVR\n",
    "from sklearn.tree import DecisionTreeRegressor\n",
    "from sklearn.ensemble import RandomForestRegressor, AdaBoostRegressor\n",
    "from xgboost import XGBRegressor\n",
    "\n",
    "from sklearn.metrics import mean_absolute_error\n",
    "\n",
    "# Optuna es un poco verboso, dejamos que solo nos muestre logs de errores\n",
    "optuna.logging.set_verbosity(optuna.logging.ERROR)"
   ]
  },
  {
   "cell_type": "markdown",
   "metadata": {},
   "source": [
    "Antes de poder realizar experimentos, vamos a crear el experimento en MLFLow, pero para evitar desorden, vamos a usar una función que se fije primero si el experimento existe, si esto es así, devuelve su ID.\n",
    "\n",
    "Además creamos el nombre del run padre con el que vamos a ir registrando las ejecuciones."
   ]
  },
  {
   "cell_type": "code",
   "execution_count": 7,
   "metadata": {
    "ExecuteTime": {
     "end_time": "2024-06-06T12:33:35.350189Z",
     "start_time": "2024-06-06T12:33:35.106741Z"
    }
   },
   "outputs": [
    {
     "name": "stdout",
     "output_type": "stream",
     "text": [
      "3\n"
     ]
    }
   ],
   "source": [
    "# Creemos el experimento\n",
    "experiment_id = get_or_create_experiment(\"hyperparam_tuning\")\n",
    "print(experiment_id)\n",
    "\n",
    "run_name_parent = \"best_hyperparam_\"  + datetime.datetime.today().strftime('%Y/%m/%d-%H:%M:%S\"')"
   ]
  },
  {
   "cell_type": "markdown",
   "metadata": {},
   "source": [
    "Ya con todo seteado, vamos a ejecutar la optimización usando Optuna, el cual realiza una búsqueda Bayesiana, la cual es más eficiente que una búsqueda de grilla tradicional. La desventaja es que es más difícil de paralelizar."
   ]
  },
  {
   "cell_type": "code",
   "execution_count": 8,
   "metadata": {
    "ExecuteTime": {
     "end_time": "2024-06-06T12:33:57.072627Z",
     "start_time": "2024-06-06T12:33:37.081460Z"
    }
   },
   "outputs": [
    {
     "name": "stderr",
     "output_type": "stream",
     "text": [
      "2024/08/15 19:54:43 INFO mlflow.tracking._tracking_service.client: 🏃 View run Trial: 0 at: http://localhost:5000/#/experiments/3/runs/7d5dfef6495343c7ba6460859d798fe0.\n",
      "2024/08/15 19:54:43 INFO mlflow.tracking._tracking_service.client: 🧪 View experiment at: http://localhost:5000/#/experiments/3.\n"
     ]
    },
    {
     "name": "stdout",
     "output_type": "stream",
     "text": [
      "Initial trial 0 achieved value: 0.46019596700628923\n"
     ]
    },
    {
     "name": "stderr",
     "output_type": "stream",
     "text": [
      "2024/08/15 19:54:46 INFO mlflow.tracking._tracking_service.client: 🏃 View run Trial: 1 at: http://localhost:5000/#/experiments/3/runs/82ea49ff49fd4edcb552fd2907c88166.\n",
      "2024/08/15 19:54:46 INFO mlflow.tracking._tracking_service.client: 🧪 View experiment at: http://localhost:5000/#/experiments/3.\n",
      "2024/08/15 19:54:46 INFO mlflow.tracking._tracking_service.client: 🏃 View run Trial: 2 at: http://localhost:5000/#/experiments/3/runs/b47a536eb4f04d9fbe0d682436c363f7.\n",
      "2024/08/15 19:54:46 INFO mlflow.tracking._tracking_service.client: 🧪 View experiment at: http://localhost:5000/#/experiments/3.\n",
      "2024/08/15 19:54:49 INFO mlflow.tracking._tracking_service.client: 🏃 View run Trial: 3 at: http://localhost:5000/#/experiments/3/runs/770a3a3e2ab745d1b23d96d423ac713e.\n",
      "2024/08/15 19:54:49 INFO mlflow.tracking._tracking_service.client: 🧪 View experiment at: http://localhost:5000/#/experiments/3.\n",
      "2024/08/15 19:54:49 INFO mlflow.tracking._tracking_service.client: 🏃 View run Trial: 4 at: http://localhost:5000/#/experiments/3/runs/df123ff996fe4730974b1e74b674dbe3.\n",
      "2024/08/15 19:54:49 INFO mlflow.tracking._tracking_service.client: 🧪 View experiment at: http://localhost:5000/#/experiments/3.\n",
      "2024/08/15 19:54:49 INFO mlflow.tracking._tracking_service.client: 🏃 View run Trial: 5 at: http://localhost:5000/#/experiments/3/runs/dbd1fdd73b8a47d7ad6db4bcfe6ae1c4.\n",
      "2024/08/15 19:54:49 INFO mlflow.tracking._tracking_service.client: 🧪 View experiment at: http://localhost:5000/#/experiments/3.\n",
      "2024/08/15 19:54:49 INFO mlflow.tracking._tracking_service.client: 🏃 View run Trial: 6 at: http://localhost:5000/#/experiments/3/runs/be33718f3bac4870aa580d278ef8b45b.\n",
      "2024/08/15 19:54:49 INFO mlflow.tracking._tracking_service.client: 🧪 View experiment at: http://localhost:5000/#/experiments/3.\n",
      "2024/08/15 19:54:50 INFO mlflow.tracking._tracking_service.client: 🏃 View run Trial: 7 at: http://localhost:5000/#/experiments/3/runs/89e9880d060a4495a0ed486240dd4eb4.\n",
      "2024/08/15 19:54:50 INFO mlflow.tracking._tracking_service.client: 🧪 View experiment at: http://localhost:5000/#/experiments/3.\n",
      "2024/08/15 19:54:51 INFO mlflow.tracking._tracking_service.client: 🏃 View run Trial: 8 at: http://localhost:5000/#/experiments/3/runs/f8effe3badf345f788fc74a8d18b2099.\n",
      "2024/08/15 19:54:51 INFO mlflow.tracking._tracking_service.client: 🧪 View experiment at: http://localhost:5000/#/experiments/3.\n",
      "2024/08/15 19:54:52 INFO mlflow.tracking._tracking_service.client: 🏃 View run Trial: 9 at: http://localhost:5000/#/experiments/3/runs/a433b77728be4d86a2570a9b42cd3f11.\n",
      "2024/08/15 19:54:52 INFO mlflow.tracking._tracking_service.client: 🧪 View experiment at: http://localhost:5000/#/experiments/3.\n",
      "2024/08/15 19:56:30 INFO mlflow.tracking._tracking_service.client: 🏃 View run Trial: 10 at: http://localhost:5000/#/experiments/3/runs/905d3ba3ba8b4d28a0753619b3cd4cf0.\n",
      "2024/08/15 19:56:30 INFO mlflow.tracking._tracking_service.client: 🧪 View experiment at: http://localhost:5000/#/experiments/3.\n"
     ]
    },
    {
     "name": "stdout",
     "output_type": "stream",
     "text": [
      "Trial 10 achieved value: 0.45122011252601224 with  1.9892% improvement\n"
     ]
    },
    {
     "name": "stderr",
     "output_type": "stream",
     "text": [
      "2024/08/15 19:59:00 INFO mlflow.tracking._tracking_service.client: 🏃 View run Trial: 11 at: http://localhost:5000/#/experiments/3/runs/47abf8e26c934282a95db90728e8f56c.\n",
      "2024/08/15 19:59:00 INFO mlflow.tracking._tracking_service.client: 🧪 View experiment at: http://localhost:5000/#/experiments/3.\n",
      "2024/08/15 19:59:38 INFO mlflow.tracking._tracking_service.client: 🏃 View run Trial: 12 at: http://localhost:5000/#/experiments/3/runs/a442095ddbb9441b900dbde66116c23d.\n",
      "2024/08/15 19:59:38 INFO mlflow.tracking._tracking_service.client: 🧪 View experiment at: http://localhost:5000/#/experiments/3.\n",
      "2024/08/15 20:01:49 INFO mlflow.tracking._tracking_service.client: 🏃 View run Trial: 13 at: http://localhost:5000/#/experiments/3/runs/b1276842a80b4dafaf951980346950ec.\n",
      "2024/08/15 20:01:49 INFO mlflow.tracking._tracking_service.client: 🧪 View experiment at: http://localhost:5000/#/experiments/3.\n"
     ]
    },
    {
     "name": "stdout",
     "output_type": "stream",
     "text": [
      "Trial 13 achieved value: 0.4497572134338522 with  0.3253% improvement\n"
     ]
    },
    {
     "name": "stderr",
     "output_type": "stream",
     "text": [
      "2024/08/15 20:02:14 INFO mlflow.tracking._tracking_service.client: 🏃 View run Trial: 14 at: http://localhost:5000/#/experiments/3/runs/c0e62db4b0ea495fb54d0d02c8272170.\n",
      "2024/08/15 20:02:14 INFO mlflow.tracking._tracking_service.client: 🧪 View experiment at: http://localhost:5000/#/experiments/3.\n",
      "2024/08/15 20:02:14 INFO mlflow.tracking._tracking_service.client: 🏃 View run Trial: 15 at: http://localhost:5000/#/experiments/3/runs/81d454164c184ac9ad1cdd58d55f2094.\n",
      "2024/08/15 20:02:14 INFO mlflow.tracking._tracking_service.client: 🧪 View experiment at: http://localhost:5000/#/experiments/3.\n",
      "2024/08/15 20:02:52 INFO mlflow.tracking._tracking_service.client: 🏃 View run Trial: 16 at: http://localhost:5000/#/experiments/3/runs/055a51de0a8e4c158f60a964d17ca1b9.\n",
      "2024/08/15 20:02:52 INFO mlflow.tracking._tracking_service.client: 🧪 View experiment at: http://localhost:5000/#/experiments/3.\n",
      "2024/08/15 20:03:12 INFO mlflow.tracking._tracking_service.client: 🏃 View run Trial: 17 at: http://localhost:5000/#/experiments/3/runs/d6febeec32a64fab8394efd0b5807597.\n",
      "2024/08/15 20:03:12 INFO mlflow.tracking._tracking_service.client: 🧪 View experiment at: http://localhost:5000/#/experiments/3.\n",
      "2024/08/15 20:03:15 INFO mlflow.tracking._tracking_service.client: 🏃 View run Trial: 18 at: http://localhost:5000/#/experiments/3/runs/4f7849ced6d24851a0e605d2a604855e.\n",
      "2024/08/15 20:03:15 INFO mlflow.tracking._tracking_service.client: 🧪 View experiment at: http://localhost:5000/#/experiments/3.\n",
      "2024/08/15 20:03:16 INFO mlflow.tracking._tracking_service.client: 🏃 View run Trial: 19 at: http://localhost:5000/#/experiments/3/runs/c9daa3f8bc8347e8bb607b296a0151bc.\n",
      "2024/08/15 20:03:16 INFO mlflow.tracking._tracking_service.client: 🧪 View experiment at: http://localhost:5000/#/experiments/3.\n",
      "2024/08/15 20:03:43 INFO mlflow.tracking._tracking_service.client: 🏃 View run Trial: 20 at: http://localhost:5000/#/experiments/3/runs/eadabfce044e4a40a498efa145567c28.\n",
      "2024/08/15 20:03:43 INFO mlflow.tracking._tracking_service.client: 🧪 View experiment at: http://localhost:5000/#/experiments/3.\n",
      "2024/08/15 20:05:32 INFO mlflow.tracking._tracking_service.client: 🏃 View run Trial: 21 at: http://localhost:5000/#/experiments/3/runs/d3537a23d7464a4485af83fc9ec7a263.\n",
      "2024/08/15 20:05:32 INFO mlflow.tracking._tracking_service.client: 🧪 View experiment at: http://localhost:5000/#/experiments/3.\n",
      "2024/08/15 20:07:13 INFO mlflow.tracking._tracking_service.client: 🏃 View run Trial: 22 at: http://localhost:5000/#/experiments/3/runs/60c98ec069d4495aab10f4d7e9146643.\n",
      "2024/08/15 20:07:13 INFO mlflow.tracking._tracking_service.client: 🧪 View experiment at: http://localhost:5000/#/experiments/3.\n",
      "2024/08/15 20:07:21 INFO mlflow.tracking._tracking_service.client: 🏃 View run Trial: 23 at: http://localhost:5000/#/experiments/3/runs/2ed5a7fefe8a4e4bb90a99a165f17b8b.\n",
      "2024/08/15 20:07:21 INFO mlflow.tracking._tracking_service.client: 🧪 View experiment at: http://localhost:5000/#/experiments/3.\n",
      "2024/08/15 20:08:32 INFO mlflow.tracking._tracking_service.client: 🏃 View run Trial: 24 at: http://localhost:5000/#/experiments/3/runs/b9388e43c78147ec862f3a8cd5e79e8d.\n",
      "2024/08/15 20:08:32 INFO mlflow.tracking._tracking_service.client: 🧪 View experiment at: http://localhost:5000/#/experiments/3.\n",
      "2024/08/15 20:09:26 INFO mlflow.tracking._tracking_service.client: 🏃 View run Trial: 25 at: http://localhost:5000/#/experiments/3/runs/d5dbe8aa99794a0583f3f28939420714.\n",
      "2024/08/15 20:09:26 INFO mlflow.tracking._tracking_service.client: 🧪 View experiment at: http://localhost:5000/#/experiments/3.\n",
      "2024/08/15 20:09:39 INFO mlflow.tracking._tracking_service.client: 🏃 View run Trial: 26 at: http://localhost:5000/#/experiments/3/runs/2458b693a99f4a2780dc7c8e489bf0fb.\n",
      "2024/08/15 20:09:39 INFO mlflow.tracking._tracking_service.client: 🧪 View experiment at: http://localhost:5000/#/experiments/3.\n",
      "2024/08/15 20:09:39 INFO mlflow.tracking._tracking_service.client: 🏃 View run Trial: 27 at: http://localhost:5000/#/experiments/3/runs/8eb9e2b3216348818717580d17268cbb.\n",
      "2024/08/15 20:09:39 INFO mlflow.tracking._tracking_service.client: 🧪 View experiment at: http://localhost:5000/#/experiments/3.\n",
      "2024/08/15 20:09:40 INFO mlflow.tracking._tracking_service.client: 🏃 View run Trial: 28 at: http://localhost:5000/#/experiments/3/runs/07899a4cadfc4819a9ceda22ab6c09aa.\n",
      "2024/08/15 20:09:40 INFO mlflow.tracking._tracking_service.client: 🧪 View experiment at: http://localhost:5000/#/experiments/3.\n",
      "2024/08/15 20:09:43 INFO mlflow.tracking._tracking_service.client: 🏃 View run Trial: 29 at: http://localhost:5000/#/experiments/3/runs/e20f086eff4c4efd8061dc8a26e40b67.\n",
      "2024/08/15 20:09:43 INFO mlflow.tracking._tracking_service.client: 🧪 View experiment at: http://localhost:5000/#/experiments/3.\n",
      "2024/08/15 20:10:18 INFO mlflow.tracking._tracking_service.client: 🏃 View run Trial: 30 at: http://localhost:5000/#/experiments/3/runs/086cca2045b54209a7a13a0e9adea760.\n",
      "2024/08/15 20:10:18 INFO mlflow.tracking._tracking_service.client: 🧪 View experiment at: http://localhost:5000/#/experiments/3.\n",
      "2024/08/15 20:11:47 INFO mlflow.tracking._tracking_service.client: 🏃 View run Trial: 31 at: http://localhost:5000/#/experiments/3/runs/4e3ae5089f004c09a5033d5784a9d0d5.\n",
      "2024/08/15 20:11:47 INFO mlflow.tracking._tracking_service.client: 🧪 View experiment at: http://localhost:5000/#/experiments/3.\n",
      "2024/08/15 20:13:26 INFO mlflow.tracking._tracking_service.client: 🏃 View run Trial: 32 at: http://localhost:5000/#/experiments/3/runs/def4ed68c7d34facb595984d7fa87269.\n",
      "2024/08/15 20:13:26 INFO mlflow.tracking._tracking_service.client: 🧪 View experiment at: http://localhost:5000/#/experiments/3.\n",
      "2024/08/15 20:14:10 INFO mlflow.tracking._tracking_service.client: 🏃 View run Trial: 33 at: http://localhost:5000/#/experiments/3/runs/164573f3f4764994bca4bc59949c9eb9.\n",
      "2024/08/15 20:14:10 INFO mlflow.tracking._tracking_service.client: 🧪 View experiment at: http://localhost:5000/#/experiments/3.\n",
      "2024/08/15 20:14:10 INFO mlflow.tracking._tracking_service.client: 🏃 View run Trial: 34 at: http://localhost:5000/#/experiments/3/runs/4b940a22544e49e086f8299913f03368.\n",
      "2024/08/15 20:14:10 INFO mlflow.tracking._tracking_service.client: 🧪 View experiment at: http://localhost:5000/#/experiments/3.\n",
      "2024/08/15 20:16:06 INFO mlflow.tracking._tracking_service.client: 🏃 View run Trial: 35 at: http://localhost:5000/#/experiments/3/runs/6a5745118a2d4bae8d58fd10d135f1a4.\n",
      "2024/08/15 20:16:06 INFO mlflow.tracking._tracking_service.client: 🧪 View experiment at: http://localhost:5000/#/experiments/3.\n",
      "2024/08/15 20:16:06 INFO mlflow.tracking._tracking_service.client: 🏃 View run Trial: 36 at: http://localhost:5000/#/experiments/3/runs/e99d5fe053574d388e8c4f02f90fb9f7.\n",
      "2024/08/15 20:16:06 INFO mlflow.tracking._tracking_service.client: 🧪 View experiment at: http://localhost:5000/#/experiments/3.\n",
      "2024/08/15 20:16:07 INFO mlflow.tracking._tracking_service.client: 🏃 View run Trial: 37 at: http://localhost:5000/#/experiments/3/runs/bd7150f138274af386eac970bf6579bb.\n",
      "2024/08/15 20:16:07 INFO mlflow.tracking._tracking_service.client: 🧪 View experiment at: http://localhost:5000/#/experiments/3.\n",
      "2024/08/15 20:16:48 INFO mlflow.tracking._tracking_service.client: 🏃 View run Trial: 38 at: http://localhost:5000/#/experiments/3/runs/b944e27ef1bc4e0ebe81e9e08faffdfb.\n",
      "2024/08/15 20:16:48 INFO mlflow.tracking._tracking_service.client: 🧪 View experiment at: http://localhost:5000/#/experiments/3.\n",
      "2024/08/15 20:16:51 INFO mlflow.tracking._tracking_service.client: 🏃 View run Trial: 39 at: http://localhost:5000/#/experiments/3/runs/3257441dd0454d2cb39a2206cac28155.\n",
      "2024/08/15 20:16:51 INFO mlflow.tracking._tracking_service.client: 🧪 View experiment at: http://localhost:5000/#/experiments/3.\n",
      "2024/08/15 20:16:52 INFO mlflow.tracking._tracking_service.client: 🏃 View run Trial: 40 at: http://localhost:5000/#/experiments/3/runs/9da850f7c1a947d6a7cad25b4381bff6.\n",
      "2024/08/15 20:16:52 INFO mlflow.tracking._tracking_service.client: 🧪 View experiment at: http://localhost:5000/#/experiments/3.\n",
      "2024/08/15 20:18:24 INFO mlflow.tracking._tracking_service.client: 🏃 View run Trial: 41 at: http://localhost:5000/#/experiments/3/runs/8a2816ee34a14615a462e98e21b72003.\n",
      "2024/08/15 20:18:24 INFO mlflow.tracking._tracking_service.client: 🧪 View experiment at: http://localhost:5000/#/experiments/3.\n",
      "2024/08/15 20:20:08 INFO mlflow.tracking._tracking_service.client: 🏃 View run Trial: 42 at: http://localhost:5000/#/experiments/3/runs/185986a694ca4fa3b223f552f0061c94.\n",
      "2024/08/15 20:20:08 INFO mlflow.tracking._tracking_service.client: 🧪 View experiment at: http://localhost:5000/#/experiments/3.\n",
      "2024/08/15 20:22:04 INFO mlflow.tracking._tracking_service.client: 🏃 View run Trial: 43 at: http://localhost:5000/#/experiments/3/runs/63b074891fa04b22ae04cee08a79bfba.\n",
      "2024/08/15 20:22:04 INFO mlflow.tracking._tracking_service.client: 🧪 View experiment at: http://localhost:5000/#/experiments/3.\n",
      "2024/08/15 20:23:04 INFO mlflow.tracking._tracking_service.client: 🏃 View run Trial: 44 at: http://localhost:5000/#/experiments/3/runs/439e5e9f795940e9bc6ecb12291aaee8.\n",
      "2024/08/15 20:23:04 INFO mlflow.tracking._tracking_service.client: 🧪 View experiment at: http://localhost:5000/#/experiments/3.\n",
      "2024/08/15 20:25:00 INFO mlflow.tracking._tracking_service.client: 🏃 View run Trial: 45 at: http://localhost:5000/#/experiments/3/runs/e9d9c00307ce4e22bdf17622ee6f1bed.\n",
      "2024/08/15 20:25:00 INFO mlflow.tracking._tracking_service.client: 🧪 View experiment at: http://localhost:5000/#/experiments/3.\n",
      "2024/08/15 20:27:28 INFO mlflow.tracking._tracking_service.client: 🏃 View run Trial: 46 at: http://localhost:5000/#/experiments/3/runs/47ee5a0acab840b395d75e520445c862.\n",
      "2024/08/15 20:27:28 INFO mlflow.tracking._tracking_service.client: 🧪 View experiment at: http://localhost:5000/#/experiments/3.\n",
      "2024/08/15 20:27:29 INFO mlflow.tracking._tracking_service.client: 🏃 View run Trial: 47 at: http://localhost:5000/#/experiments/3/runs/159fac7ca4d24278b226d9a90465125b.\n",
      "2024/08/15 20:27:29 INFO mlflow.tracking._tracking_service.client: 🧪 View experiment at: http://localhost:5000/#/experiments/3.\n",
      "2024/08/15 20:28:57 INFO mlflow.tracking._tracking_service.client: 🏃 View run Trial: 48 at: http://localhost:5000/#/experiments/3/runs/cce1fa41e8bf48cda7aa1a33efc1babc.\n",
      "2024/08/15 20:28:57 INFO mlflow.tracking._tracking_service.client: 🧪 View experiment at: http://localhost:5000/#/experiments/3.\n",
      "2024/08/15 20:28:57 INFO mlflow.tracking._tracking_service.client: 🏃 View run Trial: 49 at: http://localhost:5000/#/experiments/3/runs/8e7678ac7c9e4e2493d72f72fb999917.\n",
      "2024/08/15 20:28:57 INFO mlflow.tracking._tracking_service.client: 🧪 View experiment at: http://localhost:5000/#/experiments/3.\n",
      "2024/08/15 20:28:58 INFO mlflow.tracking._tracking_service.client: 🏃 View run Trial: 50 at: http://localhost:5000/#/experiments/3/runs/3d85ceddd0144353a38d3ad9799883a9.\n",
      "2024/08/15 20:28:58 INFO mlflow.tracking._tracking_service.client: 🧪 View experiment at: http://localhost:5000/#/experiments/3.\n",
      "2024/08/15 20:30:30 INFO mlflow.tracking._tracking_service.client: 🏃 View run Trial: 51 at: http://localhost:5000/#/experiments/3/runs/22e5d120a88f445a93d27b4e28060199.\n",
      "2024/08/15 20:30:30 INFO mlflow.tracking._tracking_service.client: 🧪 View experiment at: http://localhost:5000/#/experiments/3.\n",
      "2024/08/15 20:32:02 INFO mlflow.tracking._tracking_service.client: 🏃 View run Trial: 52 at: http://localhost:5000/#/experiments/3/runs/b2f35aebe7b840639afc41dc3528c537.\n",
      "2024/08/15 20:32:02 INFO mlflow.tracking._tracking_service.client: 🧪 View experiment at: http://localhost:5000/#/experiments/3.\n",
      "2024/08/15 20:33:16 INFO mlflow.tracking._tracking_service.client: 🏃 View run Trial: 53 at: http://localhost:5000/#/experiments/3/runs/c2771c3092ed4159a24b715adb5832e1.\n",
      "2024/08/15 20:33:16 INFO mlflow.tracking._tracking_service.client: 🧪 View experiment at: http://localhost:5000/#/experiments/3.\n",
      "2024/08/15 20:34:08 INFO mlflow.tracking._tracking_service.client: 🏃 View run Trial: 54 at: http://localhost:5000/#/experiments/3/runs/26582803db67494882f2839fe35aaa9f.\n",
      "2024/08/15 20:34:08 INFO mlflow.tracking._tracking_service.client: 🧪 View experiment at: http://localhost:5000/#/experiments/3.\n",
      "2024/08/15 20:34:09 INFO mlflow.tracking._tracking_service.client: 🏃 View run Trial: 55 at: http://localhost:5000/#/experiments/3/runs/e9e10b50445f4bc3bc66c443f3f1f345.\n",
      "2024/08/15 20:34:09 INFO mlflow.tracking._tracking_service.client: 🧪 View experiment at: http://localhost:5000/#/experiments/3.\n",
      "2024/08/15 20:34:18 INFO mlflow.tracking._tracking_service.client: 🏃 View run Trial: 56 at: http://localhost:5000/#/experiments/3/runs/7037fafd02d44844987cfd65c1e5dce5.\n",
      "2024/08/15 20:34:18 INFO mlflow.tracking._tracking_service.client: 🧪 View experiment at: http://localhost:5000/#/experiments/3.\n",
      "2024/08/15 20:34:54 INFO mlflow.tracking._tracking_service.client: 🏃 View run Trial: 57 at: http://localhost:5000/#/experiments/3/runs/d57bca23ac2a4670b59bd32a965483f1.\n",
      "2024/08/15 20:34:54 INFO mlflow.tracking._tracking_service.client: 🧪 View experiment at: http://localhost:5000/#/experiments/3.\n",
      "2024/08/15 20:35:17 INFO mlflow.tracking._tracking_service.client: 🏃 View run Trial: 58 at: http://localhost:5000/#/experiments/3/runs/1e51fab854594217bf5769637a817b5f.\n",
      "2024/08/15 20:35:17 INFO mlflow.tracking._tracking_service.client: 🧪 View experiment at: http://localhost:5000/#/experiments/3.\n",
      "2024/08/15 20:36:05 INFO mlflow.tracking._tracking_service.client: 🏃 View run Trial: 59 at: http://localhost:5000/#/experiments/3/runs/1495144b8077407aa1adb1a587f08499.\n",
      "2024/08/15 20:36:05 INFO mlflow.tracking._tracking_service.client: 🧪 View experiment at: http://localhost:5000/#/experiments/3.\n",
      "2024/08/15 20:36:05 INFO mlflow.tracking._tracking_service.client: 🏃 View run Trial: 60 at: http://localhost:5000/#/experiments/3/runs/415a7150dbe84d2c84209b14f83adee8.\n",
      "2024/08/15 20:36:05 INFO mlflow.tracking._tracking_service.client: 🧪 View experiment at: http://localhost:5000/#/experiments/3.\n",
      "2024/08/15 20:38:01 INFO mlflow.tracking._tracking_service.client: 🏃 View run Trial: 61 at: http://localhost:5000/#/experiments/3/runs/a3024f8addae4136858d9695dfa2fd73.\n",
      "2024/08/15 20:38:01 INFO mlflow.tracking._tracking_service.client: 🧪 View experiment at: http://localhost:5000/#/experiments/3.\n",
      "2024/08/15 20:40:10 INFO mlflow.tracking._tracking_service.client: 🏃 View run Trial: 62 at: http://localhost:5000/#/experiments/3/runs/b712c22f04d4436db8c3be85208de030.\n",
      "2024/08/15 20:40:10 INFO mlflow.tracking._tracking_service.client: 🧪 View experiment at: http://localhost:5000/#/experiments/3.\n",
      "2024/08/15 20:42:30 INFO mlflow.tracking._tracking_service.client: 🏃 View run Trial: 63 at: http://localhost:5000/#/experiments/3/runs/d5992a51f1fd4ed19cd46ab6c73c28db.\n",
      "2024/08/15 20:42:30 INFO mlflow.tracking._tracking_service.client: 🧪 View experiment at: http://localhost:5000/#/experiments/3.\n",
      "2024/08/15 20:42:59 INFO mlflow.tracking._tracking_service.client: 🏃 View run Trial: 64 at: http://localhost:5000/#/experiments/3/runs/3fdaffd3345e4e5ebd8da8c3aeab18da.\n",
      "2024/08/15 20:42:59 INFO mlflow.tracking._tracking_service.client: 🧪 View experiment at: http://localhost:5000/#/experiments/3.\n",
      "2024/08/15 20:43:02 INFO mlflow.tracking._tracking_service.client: 🏃 View run Trial: 65 at: http://localhost:5000/#/experiments/3/runs/ae8d8c1652d248ee90b2c0be8901cf61.\n",
      "2024/08/15 20:43:02 INFO mlflow.tracking._tracking_service.client: 🧪 View experiment at: http://localhost:5000/#/experiments/3.\n",
      "2024/08/15 20:43:02 INFO mlflow.tracking._tracking_service.client: 🏃 View run Trial: 66 at: http://localhost:5000/#/experiments/3/runs/8ef333301b1940d9aecc8ab0e0adb9c9.\n",
      "2024/08/15 20:43:02 INFO mlflow.tracking._tracking_service.client: 🧪 View experiment at: http://localhost:5000/#/experiments/3.\n",
      "2024/08/15 20:43:23 INFO mlflow.tracking._tracking_service.client: 🏃 View run Trial: 67 at: http://localhost:5000/#/experiments/3/runs/9f306deb5f2346efba792b1f16d4815b.\n",
      "2024/08/15 20:43:23 INFO mlflow.tracking._tracking_service.client: 🧪 View experiment at: http://localhost:5000/#/experiments/3.\n",
      "2024/08/15 20:44:42 INFO mlflow.tracking._tracking_service.client: 🏃 View run Trial: 68 at: http://localhost:5000/#/experiments/3/runs/0d538cfb76e14ceeb7a4012249b1c2ee.\n",
      "2024/08/15 20:44:42 INFO mlflow.tracking._tracking_service.client: 🧪 View experiment at: http://localhost:5000/#/experiments/3.\n",
      "2024/08/15 20:44:44 INFO mlflow.tracking._tracking_service.client: 🏃 View run Trial: 69 at: http://localhost:5000/#/experiments/3/runs/cc746454503144e189b4e80a2265c1cf.\n",
      "2024/08/15 20:44:44 INFO mlflow.tracking._tracking_service.client: 🧪 View experiment at: http://localhost:5000/#/experiments/3.\n",
      "2024/08/15 20:45:13 INFO mlflow.tracking._tracking_service.client: 🏃 View run Trial: 70 at: http://localhost:5000/#/experiments/3/runs/1353808625824246a550f540fbcb7bec.\n",
      "2024/08/15 20:45:13 INFO mlflow.tracking._tracking_service.client: 🧪 View experiment at: http://localhost:5000/#/experiments/3.\n",
      "2024/08/15 20:47:12 INFO mlflow.tracking._tracking_service.client: 🏃 View run Trial: 71 at: http://localhost:5000/#/experiments/3/runs/cc7aa70e842d4c9f8dc0756914815990.\n",
      "2024/08/15 20:47:12 INFO mlflow.tracking._tracking_service.client: 🧪 View experiment at: http://localhost:5000/#/experiments/3.\n",
      "2024/08/15 20:48:56 INFO mlflow.tracking._tracking_service.client: 🏃 View run Trial: 72 at: http://localhost:5000/#/experiments/3/runs/975b6e411cb14ba8b6fc90f9387fd5f6.\n",
      "2024/08/15 20:48:56 INFO mlflow.tracking._tracking_service.client: 🧪 View experiment at: http://localhost:5000/#/experiments/3.\n"
     ]
    },
    {
     "name": "stdout",
     "output_type": "stream",
     "text": [
      "Trial 72 achieved value: 0.4496659103212977 with  0.0203% improvement\n"
     ]
    },
    {
     "name": "stderr",
     "output_type": "stream",
     "text": [
      "2024/08/15 20:50:47 INFO mlflow.tracking._tracking_service.client: 🏃 View run Trial: 73 at: http://localhost:5000/#/experiments/3/runs/ef984e18a65e40e88ba36b0a80ef6d04.\n",
      "2024/08/15 20:50:47 INFO mlflow.tracking._tracking_service.client: 🧪 View experiment at: http://localhost:5000/#/experiments/3.\n",
      "2024/08/15 20:52:41 INFO mlflow.tracking._tracking_service.client: 🏃 View run Trial: 74 at: http://localhost:5000/#/experiments/3/runs/c935a8c7041f4280b537edd7b163265c.\n",
      "2024/08/15 20:52:41 INFO mlflow.tracking._tracking_service.client: 🧪 View experiment at: http://localhost:5000/#/experiments/3.\n",
      "2024/08/15 20:53:57 INFO mlflow.tracking._tracking_service.client: 🏃 View run Trial: 75 at: http://localhost:5000/#/experiments/3/runs/1542ad8433f04d89b406c05cb02d1e2e.\n",
      "2024/08/15 20:53:57 INFO mlflow.tracking._tracking_service.client: 🧪 View experiment at: http://localhost:5000/#/experiments/3.\n",
      "2024/08/15 20:55:09 INFO mlflow.tracking._tracking_service.client: 🏃 View run Trial: 76 at: http://localhost:5000/#/experiments/3/runs/a9aee4ee11924045992d02334100af56.\n",
      "2024/08/15 20:55:09 INFO mlflow.tracking._tracking_service.client: 🧪 View experiment at: http://localhost:5000/#/experiments/3.\n",
      "2024/08/15 20:56:30 INFO mlflow.tracking._tracking_service.client: 🏃 View run Trial: 77 at: http://localhost:5000/#/experiments/3/runs/cd52bc4c0fb848debfce21f9b5155ffe.\n",
      "2024/08/15 20:56:30 INFO mlflow.tracking._tracking_service.client: 🧪 View experiment at: http://localhost:5000/#/experiments/3.\n"
     ]
    },
    {
     "name": "stdout",
     "output_type": "stream",
     "text": [
      "Trial 77 achieved value: 0.4486708062892215 with  0.2218% improvement\n"
     ]
    },
    {
     "name": "stderr",
     "output_type": "stream",
     "text": [
      "2024/08/15 20:57:50 INFO mlflow.tracking._tracking_service.client: 🏃 View run Trial: 78 at: http://localhost:5000/#/experiments/3/runs/8eac0bee9d9c492b99dd0c96c8910703.\n",
      "2024/08/15 20:57:50 INFO mlflow.tracking._tracking_service.client: 🧪 View experiment at: http://localhost:5000/#/experiments/3.\n",
      "2024/08/15 20:58:36 INFO mlflow.tracking._tracking_service.client: 🏃 View run Trial: 79 at: http://localhost:5000/#/experiments/3/runs/b77d8a399b9a4c7ab3bdc6688c02052f.\n",
      "2024/08/15 20:58:36 INFO mlflow.tracking._tracking_service.client: 🧪 View experiment at: http://localhost:5000/#/experiments/3.\n"
     ]
    },
    {
     "name": "stdout",
     "output_type": "stream",
     "text": [
      "Trial 79 achieved value: 0.4473650852649761 with  0.2919% improvement\n"
     ]
    },
    {
     "name": "stderr",
     "output_type": "stream",
     "text": [
      "2024/08/15 20:59:15 INFO mlflow.tracking._tracking_service.client: 🏃 View run Trial: 80 at: http://localhost:5000/#/experiments/3/runs/24cf2b3fb191441fb46a6b0c5e64e819.\n",
      "2024/08/15 20:59:15 INFO mlflow.tracking._tracking_service.client: 🧪 View experiment at: http://localhost:5000/#/experiments/3.\n",
      "2024/08/15 21:00:13 INFO mlflow.tracking._tracking_service.client: 🏃 View run Trial: 81 at: http://localhost:5000/#/experiments/3/runs/670c2cf2b7574331b673ec55b88ad16a.\n",
      "2024/08/15 21:00:13 INFO mlflow.tracking._tracking_service.client: 🧪 View experiment at: http://localhost:5000/#/experiments/3.\n",
      "2024/08/15 21:01:17 INFO mlflow.tracking._tracking_service.client: 🏃 View run Trial: 82 at: http://localhost:5000/#/experiments/3/runs/dbaedd2a0bd048f0bc8be3b8171e4f61.\n",
      "2024/08/15 21:01:17 INFO mlflow.tracking._tracking_service.client: 🧪 View experiment at: http://localhost:5000/#/experiments/3.\n",
      "2024/08/15 21:02:34 INFO mlflow.tracking._tracking_service.client: 🏃 View run Trial: 83 at: http://localhost:5000/#/experiments/3/runs/b3446b09fa7140f9bd4ceaa997963e34.\n",
      "2024/08/15 21:02:35 INFO mlflow.tracking._tracking_service.client: 🧪 View experiment at: http://localhost:5000/#/experiments/3.\n",
      "2024/08/15 21:03:15 INFO mlflow.tracking._tracking_service.client: 🏃 View run Trial: 84 at: http://localhost:5000/#/experiments/3/runs/079e15a371f54fb9b9601c4282237116.\n",
      "2024/08/15 21:03:15 INFO mlflow.tracking._tracking_service.client: 🧪 View experiment at: http://localhost:5000/#/experiments/3.\n",
      "2024/08/15 21:03:15 INFO mlflow.tracking._tracking_service.client: 🏃 View run Trial: 85 at: http://localhost:5000/#/experiments/3/runs/795cfed4a58e4ed580cd7ec70d4e76bc.\n",
      "2024/08/15 21:03:15 INFO mlflow.tracking._tracking_service.client: 🧪 View experiment at: http://localhost:5000/#/experiments/3.\n",
      "2024/08/15 21:03:15 INFO mlflow.tracking._tracking_service.client: 🏃 View run Trial: 86 at: http://localhost:5000/#/experiments/3/runs/5d625e631a204038830dba5dae28394e.\n",
      "2024/08/15 21:03:15 INFO mlflow.tracking._tracking_service.client: 🧪 View experiment at: http://localhost:5000/#/experiments/3.\n",
      "2024/08/15 21:04:29 INFO mlflow.tracking._tracking_service.client: 🏃 View run Trial: 87 at: http://localhost:5000/#/experiments/3/runs/08513f9ea7a5427da284a6b0f4adc32b.\n",
      "2024/08/15 21:04:29 INFO mlflow.tracking._tracking_service.client: 🧪 View experiment at: http://localhost:5000/#/experiments/3.\n",
      "2024/08/15 21:05:00 INFO mlflow.tracking._tracking_service.client: 🏃 View run Trial: 88 at: http://localhost:5000/#/experiments/3/runs/9b4bfcf650284c33bc30f519b3e1d075.\n",
      "2024/08/15 21:05:00 INFO mlflow.tracking._tracking_service.client: 🧪 View experiment at: http://localhost:5000/#/experiments/3.\n"
     ]
    },
    {
     "name": "stdout",
     "output_type": "stream",
     "text": [
      "Trial 88 achieved value: 0.4469916211775324 with  0.0836% improvement\n"
     ]
    },
    {
     "name": "stderr",
     "output_type": "stream",
     "text": [
      "2024/08/15 21:05:01 INFO mlflow.tracking._tracking_service.client: 🏃 View run Trial: 89 at: http://localhost:5000/#/experiments/3/runs/dbd7b6a2874644e0af843301ee724957.\n",
      "2024/08/15 21:05:01 INFO mlflow.tracking._tracking_service.client: 🧪 View experiment at: http://localhost:5000/#/experiments/3.\n",
      "2024/08/15 21:05:39 INFO mlflow.tracking._tracking_service.client: 🏃 View run Trial: 90 at: http://localhost:5000/#/experiments/3/runs/76027043b5b941c1ab5c89ef5afafd70.\n",
      "2024/08/15 21:05:39 INFO mlflow.tracking._tracking_service.client: 🧪 View experiment at: http://localhost:5000/#/experiments/3.\n",
      "2024/08/15 21:06:29 INFO mlflow.tracking._tracking_service.client: 🏃 View run Trial: 91 at: http://localhost:5000/#/experiments/3/runs/57909cb9a4be446cb9301a8984a0ce43.\n",
      "2024/08/15 21:06:29 INFO mlflow.tracking._tracking_service.client: 🧪 View experiment at: http://localhost:5000/#/experiments/3.\n",
      "2024/08/15 21:07:13 INFO mlflow.tracking._tracking_service.client: 🏃 View run Trial: 92 at: http://localhost:5000/#/experiments/3/runs/7e4f9e548ca74acabc4a46d588a675ff.\n",
      "2024/08/15 21:07:13 INFO mlflow.tracking._tracking_service.client: 🧪 View experiment at: http://localhost:5000/#/experiments/3.\n",
      "2024/08/15 21:07:34 INFO mlflow.tracking._tracking_service.client: 🏃 View run Trial: 93 at: http://localhost:5000/#/experiments/3/runs/e8a8b0e0a33a40ae9405812bb8ce0734.\n",
      "2024/08/15 21:07:34 INFO mlflow.tracking._tracking_service.client: 🧪 View experiment at: http://localhost:5000/#/experiments/3.\n",
      "2024/08/15 21:07:59 INFO mlflow.tracking._tracking_service.client: 🏃 View run Trial: 94 at: http://localhost:5000/#/experiments/3/runs/6cfedab1e31f4d4b8cf6b0e25105f5d5.\n",
      "2024/08/15 21:07:59 INFO mlflow.tracking._tracking_service.client: 🧪 View experiment at: http://localhost:5000/#/experiments/3.\n",
      "2024/08/15 21:08:21 INFO mlflow.tracking._tracking_service.client: 🏃 View run Trial: 95 at: http://localhost:5000/#/experiments/3/runs/d21b8540a58043e8b5370c5a1bdf32f9.\n",
      "2024/08/15 21:08:21 INFO mlflow.tracking._tracking_service.client: 🧪 View experiment at: http://localhost:5000/#/experiments/3.\n",
      "2024/08/15 21:08:39 INFO mlflow.tracking._tracking_service.client: 🏃 View run Trial: 96 at: http://localhost:5000/#/experiments/3/runs/f72c911d3f544864be4c8e65761059c6.\n",
      "2024/08/15 21:08:39 INFO mlflow.tracking._tracking_service.client: 🧪 View experiment at: http://localhost:5000/#/experiments/3.\n",
      "2024/08/15 21:08:58 INFO mlflow.tracking._tracking_service.client: 🏃 View run Trial: 97 at: http://localhost:5000/#/experiments/3/runs/5960f0512829402684f596d3eaa2b96f.\n",
      "2024/08/15 21:08:58 INFO mlflow.tracking._tracking_service.client: 🧪 View experiment at: http://localhost:5000/#/experiments/3.\n",
      "2024/08/15 21:09:12 INFO mlflow.tracking._tracking_service.client: 🏃 View run Trial: 98 at: http://localhost:5000/#/experiments/3/runs/d248cec541754015bf3c496c4ec3aed6.\n",
      "2024/08/15 21:09:12 INFO mlflow.tracking._tracking_service.client: 🧪 View experiment at: http://localhost:5000/#/experiments/3.\n",
      "2024/08/15 21:09:24 INFO mlflow.tracking._tracking_service.client: 🏃 View run Trial: 99 at: http://localhost:5000/#/experiments/3/runs/9f7bb81eaeae4ac78440e005f969422c.\n",
      "2024/08/15 21:09:24 INFO mlflow.tracking._tracking_service.client: 🧪 View experiment at: http://localhost:5000/#/experiments/3.\n",
      "c:\\Users\\masso\\OneDrive\\Escritorio\\amq2-tp-final\\.venv\\lib\\site-packages\\xgboost\\core.py:158: UserWarning: [21:09:24] WARNING: C:\\buildkite-agent\\builds\\buildkite-windows-cpu-autoscaling-group-i-0015a694724fa8361-1\\xgboost\\xgboost-ci-windows\\src\\learner.cc:740: \n",
      "Parameters: { \"use_label_encoder\" } are not used.\n",
      "\n",
      "  warnings.warn(smsg, UserWarning)\n",
      "Successfully registered model 'crime_prediction_model_dev'.\n",
      "2024/08/15 21:09:38 INFO mlflow.store.model_registry.abstract_store: Waiting up to 300 seconds for model version to finish creation. Model name: crime_prediction_model_dev, version 1\n",
      "Created version '1' of model 'crime_prediction_model_dev'.\n",
      "2024/08/15 21:09:38 INFO mlflow.tracking._tracking_service.client: 🏃 View run best_hyperparam_2024/08/15-19:54:38\" at: http://localhost:5000/#/experiments/3/runs/c42700d15eba4f13a778ca532ab7d0a5.\n",
      "2024/08/15 21:09:38 INFO mlflow.tracking._tracking_service.client: 🧪 View experiment at: http://localhost:5000/#/experiments/3.\n"
     ]
    }
   ],
   "source": [
    "with mlflow.start_run(experiment_id=experiment_id, run_name=run_name_parent, nested=True):\n",
    "    # Inicializamos el estudio de Optuna\n",
    "    study = optuna.create_study(direction=\"minimize\")\n",
    "\n",
    "    # Ejecutamos los trials de optimización de hiperparametros. Cada uno de estos trials se ejecuta con un run separado, pero \n",
    "    # está anidado al run padre.\n",
    "    # Notar la adición del `champion_callback` para controlar qué mensajes mostramos\n",
    "    # Para entender mejor esto ver la documentación de objective y champion_callback en optuna_aux\n",
    "    study.optimize(lambda trial: objective(trial, X_train, y_train, experiment_id), n_trials=100, callbacks=[champion_callback])\n",
    "\n",
    "    # Una vez que terminamos la búsqueda, guardamos los mejores parámetros en el run padre.\n",
    "    mlflow.log_params(study.best_params)\n",
    "    mlflow.log_metric(\"train_mae\", study.best_value)\n",
    "\n",
    "    mlflow.set_tags(\n",
    "        tags={\n",
    "            \"project\": \"Crime Prediction\",\n",
    "            \"optimizer_engine\": \"optuna\",\n",
    "            \"model_family\": \"sklearn\",\n",
    "            \"feature_set_version\": 1,\n",
    "        }\n",
    "    )\n",
    "\n",
    "    # Una vez que terminamos la búsqueda, nos quedamos con el mejor modelo y lo entrenamos\n",
    "    if study.best_params[\"model\"] == 'LinearRegression':\n",
    "        model = LinearRegression()\n",
    "    elif study.best_params[\"model\"] == 'Ridge':\n",
    "        model = Ridge(alpha=study.best_params[\"ridge_alpha\"]) \n",
    "    elif study.best_params[\"model\"] == 'SVR':\n",
    "        model = SVR(C=study.best_params[\"svr_C\"], gamma=study.best_params[\"svr_gamma\"], kernel=study.best_params[\"svr_kernel\"])\n",
    "    elif study.best_params[\"model\"] == 'DecisionTree':\n",
    "        model = DecisionTreeRegressor(max_depth=study.best_params[\"dt_max_depth\"])\n",
    "    elif study.best_params[\"model\"] == 'RandomForest':\n",
    "        model = RandomForestRegressor(n_estimators=study.best_params[\"rf_n_estimators\"], max_depth=study.best_params[\"rf_max_depth\"])\n",
    "    elif study.best_params[\"model\"] == 'AdaBoost':\n",
    "        model = AdaBoostRegressor(n_estimators=study.best_params[\"ab_n_estimators\"], learning_rate=study.best_params[\"ab_learning_rate\"])\n",
    "    elif study.best_params[\"model\"] == 'XGBoost':\n",
    "        model = XGBRegressor(n_estimators=study.best_params[\"xgb_n_estimators\"], \n",
    "                             learning_rate=study.best_params[\"xgb_learning_rate\"], \n",
    "                             max_depth=study.best_params[\"xgb_max_depth\"], \n",
    "                             use_label_encoder=False, eval_metric='logloss')\n",
    "    \n",
    "    model = model.fit(X_train, y_train)\n",
    "\n",
    "    # Testeamos el modelo y logueamos el resultado\n",
    "    y_pred = model.predict(X_test)\n",
    "    mae = mean_absolute_error(y_test, y_pred)\n",
    "    mlflow.log_metric(\"test_mae\", mae)\n",
    "\n",
    "    # Logueamos los artefactos de las gráficas de correlación y de information_gain\n",
    "    mlflow.log_figure(figure=correlation_plot, artifact_file=\"correlation_plot.png\")\n",
    "    mlflow.log_figure(figure=information_gain_plot, artifact_file=\"information_gain_plot.png\")\n",
    "\n",
    "    # Guardamos el artefacto del modelo\n",
    "    artifact_path = \"model\"\n",
    "\n",
    "    signature = infer_signature(X_train, model.predict(X_train))\n",
    "\n",
    "    mlflow.sklearn.log_model(\n",
    "        sk_model=model,\n",
    "        artifact_path=artifact_path,\n",
    "        signature=signature,\n",
    "        serialization_format='cloudpickle',\n",
    "        registered_model_name=\"crime_prediction_model_dev\",\n",
    "        metadata={\"model_data_version\": 1}\n",
    "    )\n",
    "\n",
    "    # Obtenemos la ubicación del modelo guardado en MLFlow\n",
    "    model_uri = mlflow.get_artifact_uri(artifact_path)\n"
   ]
  },
  {
   "cell_type": "markdown",
   "metadata": {},
   "source": [
    "## Testeando el modelo\n",
    "\n",
    "Una vez que el modelo fue entrenado, podemos levantarlo y testearlo de una forma agnóstica a donde está guardado."
   ]
  },
  {
   "cell_type": "code",
   "execution_count": 9,
   "metadata": {
    "ExecuteTime": {
     "end_time": "2024-06-06T12:33:57.138907Z",
     "start_time": "2024-06-06T12:33:57.074256Z"
    }
   },
   "outputs": [
    {
     "name": "stderr",
     "output_type": "stream",
     "text": [
      "Downloading artifacts: 100%|██████████| 5/5 [00:00<00:00, 25.69it/s] \n"
     ]
    }
   ],
   "source": [
    "loaded = mlflow.sklearn.load_model(model_uri)"
   ]
  },
  {
   "cell_type": "code",
   "execution_count": 10,
   "metadata": {
    "ExecuteTime": {
     "end_time": "2024-06-06T12:33:57.148986Z",
     "start_time": "2024-06-06T12:33:57.139819Z"
    }
   },
   "outputs": [
    {
     "name": "stdout",
     "output_type": "stream",
     "text": [
      "Prediction: 2.172480344772339\n",
      "Reality: 2.3978952727983707\n"
     ]
    }
   ],
   "source": [
    "import numpy as np\n",
    "\n",
    "random_row = X_test.sample(n=1)\n",
    "\n",
    "prediction = loaded.predict(np.array(random_row).reshape([1, -1]))[0]\n",
    "\n",
    "reality = y_test.loc[random_row.index[0]][\"cantidad_robos_log\"]\n",
    "\n",
    "print(f\"Prediction: {prediction}\")\n",
    "print(f\"Reality: {reality}\")"
   ]
  },
  {
   "cell_type": "markdown",
   "metadata": {},
   "source": [
    "## Registramos el modelo \n",
    "\n",
    "Realizamos el registro del modelo en MLflow. En este registro se pone el modelo productivo que luego se usará para servir en formato on-line."
   ]
  },
  {
   "cell_type": "code",
   "execution_count": 11,
   "metadata": {
    "ExecuteTime": {
     "end_time": "2024-06-06T12:33:57.237830Z",
     "start_time": "2024-06-06T12:33:57.153650Z"
    }
   },
   "outputs": [
    {
     "name": "stderr",
     "output_type": "stream",
     "text": [
      "2024/08/15 21:14:05 INFO mlflow.store.model_registry.abstract_store: Waiting up to 300 seconds for model version to finish creation. Model name: crime_prediction_model_prod, version 1\n"
     ]
    }
   ],
   "source": [
    "from mlflow import MlflowClient\n",
    "\n",
    "client = MlflowClient()\n",
    "name = \"crime_prediction_model_prod\"\n",
    "desc = \"This predicts the number of crimes in the city of Buenos Aires given the weather conditions\"\n",
    "\n",
    "# Creamos el modelo productivo\n",
    "client.create_registered_model(name=name, description=desc)\n",
    "\n",
    "# Guardamos como tag los hiper-parametros en la version del modelo\n",
    "tags = model.get_params()\n",
    "tags[\"model\"] = type(model).__name__\n",
    "tags[\"mae\"] = mae\n",
    "\n",
    "# Guardamos la version del modelo\n",
    "result = client.create_model_version(\n",
    "    name=name,\n",
    "    source=model_uri,\n",
    "    run_id=model_uri.split(\"/\")[-3],\n",
    "    tags=tags\n",
    ")\n",
    "\n",
    "# Y creamos como la version con el alias de champion para poder levantarlo en nuestro\n",
    "# proceso de servicio del modelo on-line.\n",
    "client.set_registered_model_alias(name, \"champion\", result.version)"
   ]
  }
 ],
 "metadata": {
  "kernelspec": {
   "display_name": ".venv",
   "language": "python",
   "name": "python3"
  },
  "language_info": {
   "codemirror_mode": {
    "name": "ipython",
    "version": 3
   },
   "file_extension": ".py",
   "mimetype": "text/x-python",
   "name": "python",
   "nbconvert_exporter": "python",
   "pygments_lexer": "ipython3",
   "version": "3.10.4"
  }
 },
 "nbformat": 4,
 "nbformat_minor": 4
}
