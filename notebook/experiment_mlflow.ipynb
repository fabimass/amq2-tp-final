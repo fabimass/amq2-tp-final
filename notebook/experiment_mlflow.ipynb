{
 "cells": [
  {
   "cell_type": "code",
   "execution_count": 1,
   "metadata": {
    "ExecuteTime": {
     "end_time": "2024-06-06T12:33:18.162188Z",
     "start_time": "2024-06-06T12:33:18.155786Z"
    }
   },
   "outputs": [
    {
     "name": "stdout",
     "output_type": "stream",
     "text": [
      "env: AWS_ACCESS_KEY_ID=minio\n",
      "env: AWS_SECRET_ACCESS_KEY=minio123\n",
      "env: MLFLOW_S3_ENDPOINT_URL=http://localhost:9000\n",
      "env: AWS_ENDPOINT_URL_S3=http://localhost:9000\n"
     ]
    }
   ],
   "source": [
    "import awswrangler as wr\n",
    "import mlflow\n",
    "\n",
    "%env AWS_ACCESS_KEY_ID=minio   \n",
    "%env AWS_SECRET_ACCESS_KEY=minio123 \n",
    "%env MLFLOW_S3_ENDPOINT_URL=http://localhost:9000\n",
    "%env AWS_ENDPOINT_URL_S3=http://localhost:9000"
   ]
  },
  {
   "cell_type": "markdown",
   "metadata": {},
   "source": [
    "# Búsqueda de mejor modelo e hiperparámetros\n",
    "\n",
    "Dado nuestro dataset, el cual ya pasó por el proceso de ETL y se encuentra en nuestro S3 bucket, vamos a realizar una búsqueda de cual seria el mejor modelo y que hiperparametros usar.\n",
    "\n",
    "La búsqueda de hiperparametros la haremos usando Optuna y el tracking será realizado mediante MLFlow.\n",
    "\n",
    "OBS: Para la confección de esta notebook, nos basamos en el tutorial de [MLFlow](https://mlflow.org/docs/latest/traditional-ml/hyperparameter-tuning-with-child-runs/notebooks/index.html)."
   ]
  },
  {
   "cell_type": "code",
   "execution_count": 2,
   "metadata": {
    "ExecuteTime": {
     "end_time": "2024-06-06T12:33:21.563179Z",
     "start_time": "2024-06-06T12:33:21.560951Z"
    }
   },
   "outputs": [],
   "source": [
    "mlflow_server = \"http://localhost:5000\"\n",
    "\n",
    "mlflow.set_tracking_uri(mlflow_server)"
   ]
  },
  {
   "cell_type": "code",
   "execution_count": 3,
   "metadata": {
    "ExecuteTime": {
     "end_time": "2024-06-06T12:33:22.668794Z",
     "start_time": "2024-06-06T12:33:22.215467Z"
    }
   },
   "outputs": [],
   "source": [
    "# Cargamos los datos\n",
    "X_train =  wr.s3.read_csv(\"s3://data/train/X_train.csv\")\n",
    "y_train =  wr.s3.read_csv(\"s3://data/train/y_train.csv\")\n",
    "\n",
    "X_test =  wr.s3.read_csv(\"s3://data/test/X_test.csv\")\n",
    "y_test =  wr.s3.read_csv(\"s3://data/test/y_test.csv\")"
   ]
  },
  {
   "cell_type": "markdown",
   "metadata": {},
   "source": [
    "## Investigamos la correlación de features con la variable objetivo\n",
    "\n",
    "Antes de profundizar en el proceso de construcción de modelo, es esencial comprender las relaciones entre nuestras features  y la variable objetivo. Por lo que vamos a realizar un gráfico que indica el coeficiente de correlación de cada feature en relación con la variable objetivo. Esto nos sirve para:\n",
    "\n",
    "- Evitar data leakage: Debemos asegurarnos de que ninguna característica se correlacione perfectamente con el objetivo (un coeficiente de correlación de aproximadamente 1.0). Si existe tal correlación, es una señal de que nuestro conjunto de datos podría estar \"filtrando\" información sobre el objetivo. \n",
    "\n",
    "- Garantizar relaciones significativas: Idealmente, nuestras características deberían tener algún grado de correlación con el objetivo. Inclusive si estamos trabajando con un problema de clasificación, aunque los resultados no son tan importantes como en un caso de regresión.\n",
    "\n",
    "- Auditoría y trazabilidad: Loggear esta visualización de correlación con nuestra ejecución principal de MLflow garantiza la trazabilidad. Proporciona una instantánea de las características de los datos en el momento del entrenamiento del modelo, lo cual es invaluable para propósitos de auditoría y replicabilidad."
   ]
  },
  {
   "cell_type": "code",
   "execution_count": 4,
   "metadata": {
    "ExecuteTime": {
     "end_time": "2024-06-06T12:33:29.152729Z",
     "start_time": "2024-06-06T12:33:26.288918Z"
    }
   },
   "outputs": [],
   "source": [
    "from plots import plot_correlation_with_target, plot_information_gain_with_target"
   ]
  },
  {
   "cell_type": "code",
   "execution_count": 5,
   "metadata": {
    "ExecuteTime": {
     "end_time": "2024-06-06T12:33:29.957355Z",
     "start_time": "2024-06-06T12:33:29.776398Z"
    }
   },
   "outputs": [],
   "source": [
    "# Dado que estamos usando como tracking a MLFlow, mostrar los gráficos aquí no tiene sentido.\n",
    "correlation_plot = plot_correlation_with_target(X_train, y_train, target_col=\"cantidad_robos_log\")\n",
    "information_gain_plot = plot_information_gain_with_target(X_train, y_train, target_col=\"cantidad_robos_log\")"
   ]
  },
  {
   "cell_type": "markdown",
   "metadata": {},
   "source": [
    "## Arrancamos a experimentar"
   ]
  },
  {
   "cell_type": "code",
   "execution_count": 6,
   "metadata": {
    "ExecuteTime": {
     "end_time": "2024-06-06T12:33:31.839716Z",
     "start_time": "2024-06-06T12:33:31.179611Z"
    }
   },
   "outputs": [
    {
     "name": "stderr",
     "output_type": "stream",
     "text": [
      "c:\\Users\\masso\\OneDrive\\Escritorio\\amq2-tp-final\\.venv\\lib\\site-packages\\tqdm\\auto.py:21: TqdmWarning: IProgress not found. Please update jupyter and ipywidgets. See https://ipywidgets.readthedocs.io/en/stable/user_install.html\n",
      "  from .autonotebook import tqdm as notebook_tqdm\n"
     ]
    }
   ],
   "source": [
    "import datetime\n",
    "import optuna\n",
    "\n",
    "from mlflow.models import infer_signature\n",
    "from mlflow_aux import get_or_create_experiment\n",
    "\n",
    "from optuna_aux import champion_callback, objective\n",
    "\n",
    "from sklearn.linear_model import LinearRegression, Ridge\n",
    "from sklearn.svm import SVR\n",
    "from sklearn.tree import DecisionTreeRegressor\n",
    "from sklearn.ensemble import RandomForestRegressor, AdaBoostRegressor\n",
    "from xgboost import XGBRegressor\n",
    "\n",
    "from sklearn.metrics import mean_absolute_error\n",
    "\n",
    "# Optuna es un poco verboso, dejamos que solo nos muestre logs de errores\n",
    "optuna.logging.set_verbosity(optuna.logging.ERROR)"
   ]
  },
  {
   "cell_type": "markdown",
   "metadata": {},
   "source": [
    "Antes de poder realizar experimentos, vamos a crear el experimento en MLFLow, pero para evitar desorden, vamos a usar una función que se fije primero si el experimento existe, si esto es así, devuelve su ID.\n",
    "\n",
    "Además creamos el nombre del run padre con el que vamos a ir registrando las ejecuciones."
   ]
  },
  {
   "cell_type": "code",
   "execution_count": 7,
   "metadata": {
    "ExecuteTime": {
     "end_time": "2024-06-06T12:33:35.350189Z",
     "start_time": "2024-06-06T12:33:35.106741Z"
    }
   },
   "outputs": [
    {
     "name": "stdout",
     "output_type": "stream",
     "text": [
      "2\n"
     ]
    }
   ],
   "source": [
    "# Creemos el experimento\n",
    "experiment_id = get_or_create_experiment(\"hyperparam_tuning\")\n",
    "print(experiment_id)\n",
    "\n",
    "run_name_parent = \"best_hyperparam_\"  + datetime.datetime.today().strftime('%Y/%m/%d-%H:%M:%S\"')"
   ]
  },
  {
   "cell_type": "markdown",
   "metadata": {},
   "source": [
    "Ya con todo seteado, vamos a ejecutar la optimización usando Optuna, el cual realiza una búsqueda Bayesiana, la cual es más eficiente que una búsqueda de grilla tradicional. La desventaja es que es más difícil de paralelizar."
   ]
  },
  {
   "cell_type": "code",
   "execution_count": 8,
   "metadata": {
    "ExecuteTime": {
     "end_time": "2024-06-06T12:33:57.072627Z",
     "start_time": "2024-06-06T12:33:37.081460Z"
    }
   },
   "outputs": [
    {
     "name": "stderr",
     "output_type": "stream",
     "text": [
      "2024/08/05 21:09:51 INFO mlflow.tracking._tracking_service.client: 🏃 View run Trial: 0 at: http://localhost:5000/#/experiments/2/runs/96830efac4164c94aeb4cfd36429370a.\n",
      "2024/08/05 21:09:51 INFO mlflow.tracking._tracking_service.client: 🧪 View experiment at: http://localhost:5000/#/experiments/2.\n"
     ]
    },
    {
     "name": "stdout",
     "output_type": "stream",
     "text": [
      "Initial trial 0 achieved value: 0.4625431296388098\n"
     ]
    },
    {
     "name": "stderr",
     "output_type": "stream",
     "text": [
      "2024/08/05 21:10:10 INFO mlflow.tracking._tracking_service.client: 🏃 View run Trial: 1 at: http://localhost:5000/#/experiments/2/runs/ce1bda50ed7a45e3ac0dce94f3311587.\n",
      "2024/08/05 21:10:10 INFO mlflow.tracking._tracking_service.client: 🧪 View experiment at: http://localhost:5000/#/experiments/2.\n",
      "2024/08/05 21:10:11 INFO mlflow.tracking._tracking_service.client: 🏃 View run Trial: 2 at: http://localhost:5000/#/experiments/2/runs/ae58b3fed8ee44618f23a14371a8a2ea.\n",
      "2024/08/05 21:10:11 INFO mlflow.tracking._tracking_service.client: 🧪 View experiment at: http://localhost:5000/#/experiments/2.\n"
     ]
    },
    {
     "name": "stdout",
     "output_type": "stream",
     "text": [
      "Trial 2 achieved value: 0.4607281834218752 with  0.3939% improvement\n"
     ]
    },
    {
     "name": "stderr",
     "output_type": "stream",
     "text": [
      "2024/08/05 21:10:11 INFO mlflow.tracking._tracking_service.client: 🏃 View run Trial: 3 at: http://localhost:5000/#/experiments/2/runs/a98dadce212e4582bfff200dcaa06bad.\n",
      "2024/08/05 21:10:11 INFO mlflow.tracking._tracking_service.client: 🧪 View experiment at: http://localhost:5000/#/experiments/2.\n",
      "2024/08/05 21:10:13 INFO mlflow.tracking._tracking_service.client: 🏃 View run Trial: 4 at: http://localhost:5000/#/experiments/2/runs/bbf72afd764f477bbcc0c08192f325ec.\n",
      "2024/08/05 21:10:13 INFO mlflow.tracking._tracking_service.client: 🧪 View experiment at: http://localhost:5000/#/experiments/2.\n",
      "2024/08/05 21:11:00 INFO mlflow.tracking._tracking_service.client: 🏃 View run Trial: 5 at: http://localhost:5000/#/experiments/2/runs/8ed407d8259f478f9d844b171508386c.\n",
      "2024/08/05 21:11:00 INFO mlflow.tracking._tracking_service.client: 🧪 View experiment at: http://localhost:5000/#/experiments/2.\n",
      "2024/08/05 21:11:00 INFO mlflow.tracking._tracking_service.client: 🏃 View run Trial: 6 at: http://localhost:5000/#/experiments/2/runs/34e45594579d445e8810da5a46deaab8.\n"
     ]
    },
    {
     "name": "stdout",
     "output_type": "stream",
     "text": [
      "Trial 5 achieved value: 0.45252738883741966 with  1.8122% improvement\n"
     ]
    },
    {
     "name": "stderr",
     "output_type": "stream",
     "text": [
      "2024/08/05 21:11:00 INFO mlflow.tracking._tracking_service.client: 🧪 View experiment at: http://localhost:5000/#/experiments/2.\n",
      "2024/08/05 21:11:00 INFO mlflow.tracking._tracking_service.client: 🏃 View run Trial: 7 at: http://localhost:5000/#/experiments/2/runs/aa0033dd2cfb48dfb1f92d80a55360da.\n",
      "2024/08/05 21:11:00 INFO mlflow.tracking._tracking_service.client: 🧪 View experiment at: http://localhost:5000/#/experiments/2.\n",
      "2024/08/05 21:11:00 INFO mlflow.tracking._tracking_service.client: 🏃 View run Trial: 8 at: http://localhost:5000/#/experiments/2/runs/14fba40c81e04f40a26530f92aeb8a54.\n",
      "2024/08/05 21:11:00 INFO mlflow.tracking._tracking_service.client: 🧪 View experiment at: http://localhost:5000/#/experiments/2.\n",
      "2024/08/05 21:11:01 INFO mlflow.tracking._tracking_service.client: 🏃 View run Trial: 9 at: http://localhost:5000/#/experiments/2/runs/71e935e0d95f4223854c433d368cda51.\n",
      "2024/08/05 21:11:01 INFO mlflow.tracking._tracking_service.client: 🧪 View experiment at: http://localhost:5000/#/experiments/2.\n",
      "2024/08/05 21:12:59 INFO mlflow.tracking._tracking_service.client: 🏃 View run Trial: 10 at: http://localhost:5000/#/experiments/2/runs/2639cebf876d4e6f9539a2f90dc0f76e.\n",
      "2024/08/05 21:12:59 INFO mlflow.tracking._tracking_service.client: 🧪 View experiment at: http://localhost:5000/#/experiments/2.\n"
     ]
    },
    {
     "name": "stdout",
     "output_type": "stream",
     "text": [
      "Trial 10 achieved value: 0.45110034571677743 with  0.3163% improvement\n"
     ]
    },
    {
     "name": "stderr",
     "output_type": "stream",
     "text": [
      "2024/08/05 21:14:57 INFO mlflow.tracking._tracking_service.client: 🏃 View run Trial: 11 at: http://localhost:5000/#/experiments/2/runs/22929616356643f69dd815896c0372da.\n",
      "2024/08/05 21:14:57 INFO mlflow.tracking._tracking_service.client: 🧪 View experiment at: http://localhost:5000/#/experiments/2.\n",
      "2024/08/05 21:16:33 INFO mlflow.tracking._tracking_service.client: 🏃 View run Trial: 12 at: http://localhost:5000/#/experiments/2/runs/2f7c9be2e6a240f484c09616cf9d7f8e.\n",
      "2024/08/05 21:16:33 INFO mlflow.tracking._tracking_service.client: 🧪 View experiment at: http://localhost:5000/#/experiments/2.\n",
      "2024/08/05 21:16:52 INFO mlflow.tracking._tracking_service.client: 🏃 View run Trial: 13 at: http://localhost:5000/#/experiments/2/runs/12f00b6c8a9b44b9a0291bce406440f4.\n",
      "2024/08/05 21:16:52 INFO mlflow.tracking._tracking_service.client: 🧪 View experiment at: http://localhost:5000/#/experiments/2.\n",
      "2024/08/05 21:17:37 INFO mlflow.tracking._tracking_service.client: 🏃 View run Trial: 14 at: http://localhost:5000/#/experiments/2/runs/0fe6b93968614f63ad8a82ccfab0d2e4.\n",
      "2024/08/05 21:17:37 INFO mlflow.tracking._tracking_service.client: 🧪 View experiment at: http://localhost:5000/#/experiments/2.\n",
      "2024/08/05 21:17:38 INFO mlflow.tracking._tracking_service.client: 🏃 View run Trial: 15 at: http://localhost:5000/#/experiments/2/runs/5c431aba59584d3c8f67dcc1ba58fe36.\n",
      "2024/08/05 21:17:38 INFO mlflow.tracking._tracking_service.client: 🧪 View experiment at: http://localhost:5000/#/experiments/2.\n",
      "2024/08/05 21:17:59 INFO mlflow.tracking._tracking_service.client: 🏃 View run Trial: 16 at: http://localhost:5000/#/experiments/2/runs/d10c3374eb9e4bf2911320c054f8debb.\n",
      "2024/08/05 21:17:59 INFO mlflow.tracking._tracking_service.client: 🧪 View experiment at: http://localhost:5000/#/experiments/2.\n",
      "2024/08/05 21:18:00 INFO mlflow.tracking._tracking_service.client: 🏃 View run Trial: 17 at: http://localhost:5000/#/experiments/2/runs/6a5244aff38d4fd68b22c395857779e8.\n",
      "2024/08/05 21:18:00 INFO mlflow.tracking._tracking_service.client: 🧪 View experiment at: http://localhost:5000/#/experiments/2.\n",
      "2024/08/05 21:18:00 INFO mlflow.tracking._tracking_service.client: 🏃 View run Trial: 18 at: http://localhost:5000/#/experiments/2/runs/5c942d05873d4f9eabff1c7c988343c4.\n",
      "2024/08/05 21:18:00 INFO mlflow.tracking._tracking_service.client: 🧪 View experiment at: http://localhost:5000/#/experiments/2.\n",
      "2024/08/05 21:18:03 INFO mlflow.tracking._tracking_service.client: 🏃 View run Trial: 19 at: http://localhost:5000/#/experiments/2/runs/a6de950381234ac7a0952e7e1b94393a.\n",
      "2024/08/05 21:18:03 INFO mlflow.tracking._tracking_service.client: 🧪 View experiment at: http://localhost:5000/#/experiments/2.\n",
      "2024/08/05 21:18:23 INFO mlflow.tracking._tracking_service.client: 🏃 View run Trial: 20 at: http://localhost:5000/#/experiments/2/runs/46b72c4312b247f4a464a601e3d3e33b.\n",
      "2024/08/05 21:18:23 INFO mlflow.tracking._tracking_service.client: 🧪 View experiment at: http://localhost:5000/#/experiments/2.\n",
      "2024/08/05 21:19:11 INFO mlflow.tracking._tracking_service.client: 🏃 View run Trial: 21 at: http://localhost:5000/#/experiments/2/runs/867fa3ade48d481ea756f53c7995c512.\n",
      "2024/08/05 21:19:11 INFO mlflow.tracking._tracking_service.client: 🧪 View experiment at: http://localhost:5000/#/experiments/2.\n",
      "2024/08/05 21:19:42 INFO mlflow.tracking._tracking_service.client: 🏃 View run Trial: 22 at: http://localhost:5000/#/experiments/2/runs/cb7518e1a0b54be495495785b5fcd2e1.\n",
      "2024/08/05 21:19:42 INFO mlflow.tracking._tracking_service.client: 🧪 View experiment at: http://localhost:5000/#/experiments/2.\n",
      "2024/08/05 21:21:25 INFO mlflow.tracking._tracking_service.client: 🏃 View run Trial: 23 at: http://localhost:5000/#/experiments/2/runs/00cb5f86e26a41a3807266ccb6928aa9.\n",
      "2024/08/05 21:21:25 INFO mlflow.tracking._tracking_service.client: 🧪 View experiment at: http://localhost:5000/#/experiments/2.\n",
      "2024/08/05 21:22:18 INFO mlflow.tracking._tracking_service.client: 🏃 View run Trial: 24 at: http://localhost:5000/#/experiments/2/runs/af6a4578c38e40a3b39067071de20b8f.\n",
      "2024/08/05 21:22:18 INFO mlflow.tracking._tracking_service.client: 🧪 View experiment at: http://localhost:5000/#/experiments/2.\n",
      "2024/08/05 21:22:36 INFO mlflow.tracking._tracking_service.client: 🏃 View run Trial: 25 at: http://localhost:5000/#/experiments/2/runs/baa946b9544c4a3e8ed4395e5b81304f.\n",
      "2024/08/05 21:22:36 INFO mlflow.tracking._tracking_service.client: 🧪 View experiment at: http://localhost:5000/#/experiments/2.\n",
      "2024/08/05 21:22:36 INFO mlflow.tracking._tracking_service.client: 🏃 View run Trial: 26 at: http://localhost:5000/#/experiments/2/runs/2ad51e9eb7b84c15ab1f52c78b71ac89.\n",
      "2024/08/05 21:22:36 INFO mlflow.tracking._tracking_service.client: 🧪 View experiment at: http://localhost:5000/#/experiments/2.\n",
      "2024/08/05 21:22:37 INFO mlflow.tracking._tracking_service.client: 🏃 View run Trial: 27 at: http://localhost:5000/#/experiments/2/runs/7304b98e6a3141e0a92befea4deb10eb.\n",
      "2024/08/05 21:22:37 INFO mlflow.tracking._tracking_service.client: 🧪 View experiment at: http://localhost:5000/#/experiments/2.\n",
      "2024/08/05 21:22:40 INFO mlflow.tracking._tracking_service.client: 🏃 View run Trial: 28 at: http://localhost:5000/#/experiments/2/runs/c4fb6b563458465d84fef03aff66633c.\n",
      "2024/08/05 21:22:40 INFO mlflow.tracking._tracking_service.client: 🧪 View experiment at: http://localhost:5000/#/experiments/2.\n",
      "2024/08/05 21:22:41 INFO mlflow.tracking._tracking_service.client: 🏃 View run Trial: 29 at: http://localhost:5000/#/experiments/2/runs/f89245aad23d4034808a845e7c4fa042.\n",
      "2024/08/05 21:22:41 INFO mlflow.tracking._tracking_service.client: 🧪 View experiment at: http://localhost:5000/#/experiments/2.\n",
      "2024/08/05 21:23:02 INFO mlflow.tracking._tracking_service.client: 🏃 View run Trial: 30 at: http://localhost:5000/#/experiments/2/runs/8dbc73e73fb0418b80dde0624e4836b6.\n",
      "2024/08/05 21:23:02 INFO mlflow.tracking._tracking_service.client: 🧪 View experiment at: http://localhost:5000/#/experiments/2.\n",
      "2024/08/05 21:23:45 INFO mlflow.tracking._tracking_service.client: 🏃 View run Trial: 31 at: http://localhost:5000/#/experiments/2/runs/785b3fda8ab64fffa24db103ffb4478e.\n",
      "2024/08/05 21:23:45 INFO mlflow.tracking._tracking_service.client: 🧪 View experiment at: http://localhost:5000/#/experiments/2.\n",
      "2024/08/05 21:25:36 INFO mlflow.tracking._tracking_service.client: 🏃 View run Trial: 32 at: http://localhost:5000/#/experiments/2/runs/2fab79b5f8d54a9f837d926873dcfd43.\n",
      "2024/08/05 21:25:36 INFO mlflow.tracking._tracking_service.client: 🧪 View experiment at: http://localhost:5000/#/experiments/2.\n",
      "2024/08/05 21:26:24 INFO mlflow.tracking._tracking_service.client: 🏃 View run Trial: 33 at: http://localhost:5000/#/experiments/2/runs/0dd9d8101d2a4a64b9f2bb761edf2350.\n",
      "2024/08/05 21:26:24 INFO mlflow.tracking._tracking_service.client: 🧪 View experiment at: http://localhost:5000/#/experiments/2.\n",
      "2024/08/05 21:26:30 INFO mlflow.tracking._tracking_service.client: 🏃 View run Trial: 34 at: http://localhost:5000/#/experiments/2/runs/a16b13ee1886477ea44eb3117029d112.\n",
      "2024/08/05 21:26:30 INFO mlflow.tracking._tracking_service.client: 🧪 View experiment at: http://localhost:5000/#/experiments/2.\n"
     ]
    },
    {
     "name": "stdout",
     "output_type": "stream",
     "text": [
      "Trial 34 achieved value: 0.4483416246420478 with  0.6153% improvement\n"
     ]
    },
    {
     "name": "stderr",
     "output_type": "stream",
     "text": [
      "2024/08/05 21:26:33 INFO mlflow.tracking._tracking_service.client: 🏃 View run Trial: 35 at: http://localhost:5000/#/experiments/2/runs/52c4f6e5d45e484b9772d35891c0ebfc.\n",
      "2024/08/05 21:26:33 INFO mlflow.tracking._tracking_service.client: 🧪 View experiment at: http://localhost:5000/#/experiments/2.\n",
      "2024/08/05 21:26:34 INFO mlflow.tracking._tracking_service.client: 🏃 View run Trial: 36 at: http://localhost:5000/#/experiments/2/runs/3764d43fa7734f48af2a95da7a63bdd1.\n",
      "2024/08/05 21:26:34 INFO mlflow.tracking._tracking_service.client: 🧪 View experiment at: http://localhost:5000/#/experiments/2.\n",
      "2024/08/05 21:26:35 INFO mlflow.tracking._tracking_service.client: 🏃 View run Trial: 37 at: http://localhost:5000/#/experiments/2/runs/3190491afc31431bacf6b8607301ea76.\n",
      "2024/08/05 21:26:35 INFO mlflow.tracking._tracking_service.client: 🧪 View experiment at: http://localhost:5000/#/experiments/2.\n",
      "2024/08/05 21:26:36 INFO mlflow.tracking._tracking_service.client: 🏃 View run Trial: 38 at: http://localhost:5000/#/experiments/2/runs/2ac650c7c8654ce5bd6303902ce23f68.\n",
      "2024/08/05 21:26:36 INFO mlflow.tracking._tracking_service.client: 🧪 View experiment at: http://localhost:5000/#/experiments/2.\n",
      "2024/08/05 21:26:38 INFO mlflow.tracking._tracking_service.client: 🏃 View run Trial: 39 at: http://localhost:5000/#/experiments/2/runs/1052f1f141a64632b608a565ca846530.\n",
      "2024/08/05 21:26:38 INFO mlflow.tracking._tracking_service.client: 🧪 View experiment at: http://localhost:5000/#/experiments/2.\n",
      "2024/08/05 21:26:38 INFO mlflow.tracking._tracking_service.client: 🏃 View run Trial: 40 at: http://localhost:5000/#/experiments/2/runs/b06bcedff75b46a19ec9807d9c5a1c01.\n",
      "2024/08/05 21:26:38 INFO mlflow.tracking._tracking_service.client: 🧪 View experiment at: http://localhost:5000/#/experiments/2.\n",
      "2024/08/05 21:26:40 INFO mlflow.tracking._tracking_service.client: 🏃 View run Trial: 41 at: http://localhost:5000/#/experiments/2/runs/31302dca12d74b3daf53a3b448db94a7.\n",
      "2024/08/05 21:26:40 INFO mlflow.tracking._tracking_service.client: 🧪 View experiment at: http://localhost:5000/#/experiments/2.\n",
      "2024/08/05 21:26:41 INFO mlflow.tracking._tracking_service.client: 🏃 View run Trial: 42 at: http://localhost:5000/#/experiments/2/runs/053b2b63fa2c4b08b6adc13d7b526a83.\n",
      "2024/08/05 21:26:41 INFO mlflow.tracking._tracking_service.client: 🧪 View experiment at: http://localhost:5000/#/experiments/2.\n",
      "2024/08/05 21:26:43 INFO mlflow.tracking._tracking_service.client: 🏃 View run Trial: 43 at: http://localhost:5000/#/experiments/2/runs/905bb1d991a24ba2a528548e8e60a4bc.\n",
      "2024/08/05 21:26:43 INFO mlflow.tracking._tracking_service.client: 🧪 View experiment at: http://localhost:5000/#/experiments/2.\n",
      "2024/08/05 21:26:43 INFO mlflow.tracking._tracking_service.client: 🏃 View run Trial: 44 at: http://localhost:5000/#/experiments/2/runs/ef410fa97d6b4edfa8755ba3591b2d75.\n",
      "2024/08/05 21:26:43 INFO mlflow.tracking._tracking_service.client: 🧪 View experiment at: http://localhost:5000/#/experiments/2.\n",
      "2024/08/05 21:26:43 INFO mlflow.tracking._tracking_service.client: 🏃 View run Trial: 45 at: http://localhost:5000/#/experiments/2/runs/6df04942b04c4d988a212ec938daebcc.\n",
      "2024/08/05 21:26:43 INFO mlflow.tracking._tracking_service.client: 🧪 View experiment at: http://localhost:5000/#/experiments/2.\n",
      "2024/08/05 21:26:48 INFO mlflow.tracking._tracking_service.client: 🏃 View run Trial: 46 at: http://localhost:5000/#/experiments/2/runs/972a4a65e846407196434f5c10f62b78.\n",
      "2024/08/05 21:26:48 INFO mlflow.tracking._tracking_service.client: 🧪 View experiment at: http://localhost:5000/#/experiments/2.\n",
      "2024/08/05 21:26:49 INFO mlflow.tracking._tracking_service.client: 🏃 View run Trial: 47 at: http://localhost:5000/#/experiments/2/runs/94f307e892a5465a88c6c82729b0410a.\n",
      "2024/08/05 21:26:49 INFO mlflow.tracking._tracking_service.client: 🧪 View experiment at: http://localhost:5000/#/experiments/2.\n",
      "2024/08/05 21:26:54 INFO mlflow.tracking._tracking_service.client: 🏃 View run Trial: 48 at: http://localhost:5000/#/experiments/2/runs/88a16a66f50f43548c783512e22cde7d.\n",
      "2024/08/05 21:26:54 INFO mlflow.tracking._tracking_service.client: 🧪 View experiment at: http://localhost:5000/#/experiments/2.\n",
      "2024/08/05 21:26:56 INFO mlflow.tracking._tracking_service.client: 🏃 View run Trial: 49 at: http://localhost:5000/#/experiments/2/runs/ff10ecb2c873489280236be60fa48cef.\n",
      "2024/08/05 21:26:56 INFO mlflow.tracking._tracking_service.client: 🧪 View experiment at: http://localhost:5000/#/experiments/2.\n",
      "2024/08/05 21:26:56 INFO mlflow.tracking._tracking_service.client: 🏃 View run Trial: 50 at: http://localhost:5000/#/experiments/2/runs/f6c0d3ad139d47d097992b9291f1fa59.\n",
      "2024/08/05 21:26:56 INFO mlflow.tracking._tracking_service.client: 🧪 View experiment at: http://localhost:5000/#/experiments/2.\n",
      "2024/08/05 21:27:00 INFO mlflow.tracking._tracking_service.client: 🏃 View run Trial: 51 at: http://localhost:5000/#/experiments/2/runs/69367e4801ed4f7eaa174617f84e377d.\n",
      "2024/08/05 21:27:00 INFO mlflow.tracking._tracking_service.client: 🧪 View experiment at: http://localhost:5000/#/experiments/2.\n",
      "2024/08/05 21:27:05 INFO mlflow.tracking._tracking_service.client: 🏃 View run Trial: 52 at: http://localhost:5000/#/experiments/2/runs/85f6ce81df3141859a45cd0f74aabf94.\n",
      "2024/08/05 21:27:05 INFO mlflow.tracking._tracking_service.client: 🧪 View experiment at: http://localhost:5000/#/experiments/2.\n",
      "2024/08/05 21:27:10 INFO mlflow.tracking._tracking_service.client: 🏃 View run Trial: 53 at: http://localhost:5000/#/experiments/2/runs/0fbc5a3af7634463bbc77b9616556d15.\n",
      "2024/08/05 21:27:10 INFO mlflow.tracking._tracking_service.client: 🧪 View experiment at: http://localhost:5000/#/experiments/2.\n",
      "2024/08/05 21:27:15 INFO mlflow.tracking._tracking_service.client: 🏃 View run Trial: 54 at: http://localhost:5000/#/experiments/2/runs/ded309a594bf45949d3428158f3385c5.\n",
      "2024/08/05 21:27:15 INFO mlflow.tracking._tracking_service.client: 🧪 View experiment at: http://localhost:5000/#/experiments/2.\n",
      "2024/08/05 21:27:18 INFO mlflow.tracking._tracking_service.client: 🏃 View run Trial: 55 at: http://localhost:5000/#/experiments/2/runs/d55ca5034f02411baac90bb6748e1872.\n",
      "2024/08/05 21:27:18 INFO mlflow.tracking._tracking_service.client: 🧪 View experiment at: http://localhost:5000/#/experiments/2.\n",
      "2024/08/05 21:27:22 INFO mlflow.tracking._tracking_service.client: 🏃 View run Trial: 56 at: http://localhost:5000/#/experiments/2/runs/041f12be1b7b49d885557e3a2e1c124d.\n",
      "2024/08/05 21:27:22 INFO mlflow.tracking._tracking_service.client: 🧪 View experiment at: http://localhost:5000/#/experiments/2.\n",
      "2024/08/05 21:27:26 INFO mlflow.tracking._tracking_service.client: 🏃 View run Trial: 57 at: http://localhost:5000/#/experiments/2/runs/402419ab3b254aa2a0a1088a39666043.\n",
      "2024/08/05 21:27:26 INFO mlflow.tracking._tracking_service.client: 🧪 View experiment at: http://localhost:5000/#/experiments/2.\n",
      "2024/08/05 21:27:26 INFO mlflow.tracking._tracking_service.client: 🏃 View run Trial: 58 at: http://localhost:5000/#/experiments/2/runs/7f3b7e8c9e264e7d90df67a4bb983d3a.\n",
      "2024/08/05 21:27:26 INFO mlflow.tracking._tracking_service.client: 🧪 View experiment at: http://localhost:5000/#/experiments/2.\n",
      "2024/08/05 21:27:28 INFO mlflow.tracking._tracking_service.client: 🏃 View run Trial: 59 at: http://localhost:5000/#/experiments/2/runs/7b97bd50d03646588410c1f5aff2ed4d.\n",
      "2024/08/05 21:27:28 INFO mlflow.tracking._tracking_service.client: 🧪 View experiment at: http://localhost:5000/#/experiments/2.\n",
      "2024/08/05 21:27:30 INFO mlflow.tracking._tracking_service.client: 🏃 View run Trial: 60 at: http://localhost:5000/#/experiments/2/runs/419edb2b4c16411586c7873236580294.\n",
      "2024/08/05 21:27:30 INFO mlflow.tracking._tracking_service.client: 🧪 View experiment at: http://localhost:5000/#/experiments/2.\n",
      "2024/08/05 21:27:40 INFO mlflow.tracking._tracking_service.client: 🏃 View run Trial: 61 at: http://localhost:5000/#/experiments/2/runs/563f67b41ac9435d99a5eb640808c6e5.\n",
      "2024/08/05 21:27:40 INFO mlflow.tracking._tracking_service.client: 🧪 View experiment at: http://localhost:5000/#/experiments/2.\n",
      "2024/08/05 21:27:47 INFO mlflow.tracking._tracking_service.client: 🏃 View run Trial: 62 at: http://localhost:5000/#/experiments/2/runs/d2945848ddeb4a84837b1a9d216c90e8.\n",
      "2024/08/05 21:27:47 INFO mlflow.tracking._tracking_service.client: 🧪 View experiment at: http://localhost:5000/#/experiments/2.\n",
      "2024/08/05 21:27:54 INFO mlflow.tracking._tracking_service.client: 🏃 View run Trial: 63 at: http://localhost:5000/#/experiments/2/runs/cbdead38013047029773c6499725fb4e.\n",
      "2024/08/05 21:27:54 INFO mlflow.tracking._tracking_service.client: 🧪 View experiment at: http://localhost:5000/#/experiments/2.\n",
      "2024/08/05 21:27:56 INFO mlflow.tracking._tracking_service.client: 🏃 View run Trial: 64 at: http://localhost:5000/#/experiments/2/runs/b76b1d6f219a4141a9f277c0badfaadd.\n",
      "2024/08/05 21:27:56 INFO mlflow.tracking._tracking_service.client: 🧪 View experiment at: http://localhost:5000/#/experiments/2.\n",
      "2024/08/05 21:27:57 INFO mlflow.tracking._tracking_service.client: 🏃 View run Trial: 65 at: http://localhost:5000/#/experiments/2/runs/2c79b9a2b64f49c5a592ca11a3ad4518.\n",
      "2024/08/05 21:27:57 INFO mlflow.tracking._tracking_service.client: 🧪 View experiment at: http://localhost:5000/#/experiments/2.\n",
      "2024/08/05 21:28:05 INFO mlflow.tracking._tracking_service.client: 🏃 View run Trial: 66 at: http://localhost:5000/#/experiments/2/runs/5615ff67a44548d9b9b85151fb3802d4.\n",
      "2024/08/05 21:28:05 INFO mlflow.tracking._tracking_service.client: 🧪 View experiment at: http://localhost:5000/#/experiments/2.\n",
      "2024/08/05 21:28:05 INFO mlflow.tracking._tracking_service.client: 🏃 View run Trial: 67 at: http://localhost:5000/#/experiments/2/runs/685330388e72443289603f36d3b929a8.\n",
      "2024/08/05 21:28:05 INFO mlflow.tracking._tracking_service.client: 🧪 View experiment at: http://localhost:5000/#/experiments/2.\n",
      "2024/08/05 21:28:12 INFO mlflow.tracking._tracking_service.client: 🏃 View run Trial: 68 at: http://localhost:5000/#/experiments/2/runs/80ad4cd7cb694b0492f590f71e425e55.\n",
      "2024/08/05 21:28:12 INFO mlflow.tracking._tracking_service.client: 🧪 View experiment at: http://localhost:5000/#/experiments/2.\n",
      "2024/08/05 21:28:18 INFO mlflow.tracking._tracking_service.client: 🏃 View run Trial: 69 at: http://localhost:5000/#/experiments/2/runs/c9e8f5509b2240978b54269bd078c77c.\n",
      "2024/08/05 21:28:18 INFO mlflow.tracking._tracking_service.client: 🧪 View experiment at: http://localhost:5000/#/experiments/2.\n",
      "2024/08/05 21:28:26 INFO mlflow.tracking._tracking_service.client: 🏃 View run Trial: 70 at: http://localhost:5000/#/experiments/2/runs/6b582322115348839da478462c21dd09.\n",
      "2024/08/05 21:28:26 INFO mlflow.tracking._tracking_service.client: 🧪 View experiment at: http://localhost:5000/#/experiments/2.\n",
      "2024/08/05 21:28:33 INFO mlflow.tracking._tracking_service.client: 🏃 View run Trial: 71 at: http://localhost:5000/#/experiments/2/runs/c7272f5ec7a54640ae2843919e021b7c.\n",
      "2024/08/05 21:28:33 INFO mlflow.tracking._tracking_service.client: 🧪 View experiment at: http://localhost:5000/#/experiments/2.\n",
      "2024/08/05 21:28:39 INFO mlflow.tracking._tracking_service.client: 🏃 View run Trial: 72 at: http://localhost:5000/#/experiments/2/runs/c7dd5a971835428bbde8dfa22a5cf03f.\n",
      "2024/08/05 21:28:39 INFO mlflow.tracking._tracking_service.client: 🧪 View experiment at: http://localhost:5000/#/experiments/2.\n",
      "2024/08/05 21:28:48 INFO mlflow.tracking._tracking_service.client: 🏃 View run Trial: 73 at: http://localhost:5000/#/experiments/2/runs/05725ff64c86404083647ea7f6185db3.\n",
      "2024/08/05 21:28:48 INFO mlflow.tracking._tracking_service.client: 🧪 View experiment at: http://localhost:5000/#/experiments/2.\n"
     ]
    },
    {
     "name": "stdout",
     "output_type": "stream",
     "text": [
      "Trial 73 achieved value: 0.447916007416547 with  0.0950% improvement\n"
     ]
    },
    {
     "name": "stderr",
     "output_type": "stream",
     "text": [
      "2024/08/05 21:28:56 INFO mlflow.tracking._tracking_service.client: 🏃 View run Trial: 74 at: http://localhost:5000/#/experiments/2/runs/4a213bb75e0c4f8c8d76d278cac9731c.\n",
      "2024/08/05 21:28:56 INFO mlflow.tracking._tracking_service.client: 🧪 View experiment at: http://localhost:5000/#/experiments/2.\n",
      "2024/08/05 21:29:05 INFO mlflow.tracking._tracking_service.client: 🏃 View run Trial: 75 at: http://localhost:5000/#/experiments/2/runs/c8a67a4cce1f4b629636a337a2d1256d.\n",
      "2024/08/05 21:29:05 INFO mlflow.tracking._tracking_service.client: 🧪 View experiment at: http://localhost:5000/#/experiments/2.\n",
      "2024/08/05 21:29:06 INFO mlflow.tracking._tracking_service.client: 🏃 View run Trial: 76 at: http://localhost:5000/#/experiments/2/runs/f9b5a53919fd435bb8ed0e66d7a7fd49.\n",
      "2024/08/05 21:29:06 INFO mlflow.tracking._tracking_service.client: 🧪 View experiment at: http://localhost:5000/#/experiments/2.\n",
      "2024/08/05 21:29:28 INFO mlflow.tracking._tracking_service.client: 🏃 View run Trial: 77 at: http://localhost:5000/#/experiments/2/runs/60953c50528b437b99c6920beeccedd7.\n",
      "2024/08/05 21:29:28 INFO mlflow.tracking._tracking_service.client: 🧪 View experiment at: http://localhost:5000/#/experiments/2.\n",
      "2024/08/05 21:29:48 INFO mlflow.tracking._tracking_service.client: 🏃 View run Trial: 78 at: http://localhost:5000/#/experiments/2/runs/7fc1be6f997f48fb8ec3a5dede4d7881.\n",
      "2024/08/05 21:29:48 INFO mlflow.tracking._tracking_service.client: 🧪 View experiment at: http://localhost:5000/#/experiments/2.\n",
      "2024/08/05 21:29:49 INFO mlflow.tracking._tracking_service.client: 🏃 View run Trial: 79 at: http://localhost:5000/#/experiments/2/runs/52aed65767a746978910a4c85d347707.\n",
      "2024/08/05 21:29:49 INFO mlflow.tracking._tracking_service.client: 🧪 View experiment at: http://localhost:5000/#/experiments/2.\n",
      "2024/08/05 21:30:12 INFO mlflow.tracking._tracking_service.client: 🏃 View run Trial: 80 at: http://localhost:5000/#/experiments/2/runs/5167b8216b9246deb0743d4e39e3d5c3.\n",
      "2024/08/05 21:30:12 INFO mlflow.tracking._tracking_service.client: 🧪 View experiment at: http://localhost:5000/#/experiments/2.\n",
      "2024/08/05 21:30:35 INFO mlflow.tracking._tracking_service.client: 🏃 View run Trial: 81 at: http://localhost:5000/#/experiments/2/runs/2cd26f93b283446db7a2673e6daeda0b.\n",
      "2024/08/05 21:30:35 INFO mlflow.tracking._tracking_service.client: 🧪 View experiment at: http://localhost:5000/#/experiments/2.\n",
      "2024/08/05 21:30:58 INFO mlflow.tracking._tracking_service.client: 🏃 View run Trial: 82 at: http://localhost:5000/#/experiments/2/runs/53749f882ed04136a159e541f0542e7e.\n",
      "2024/08/05 21:30:58 INFO mlflow.tracking._tracking_service.client: 🧪 View experiment at: http://localhost:5000/#/experiments/2.\n"
     ]
    },
    {
     "name": "stdout",
     "output_type": "stream",
     "text": [
      "Trial 82 achieved value: 0.4478873706922932 with  0.0064% improvement\n"
     ]
    },
    {
     "name": "stderr",
     "output_type": "stream",
     "text": [
      "2024/08/05 21:31:23 INFO mlflow.tracking._tracking_service.client: 🏃 View run Trial: 83 at: http://localhost:5000/#/experiments/2/runs/994c35e3b8034f0e89ede9f2970d5066.\n",
      "2024/08/05 21:31:23 INFO mlflow.tracking._tracking_service.client: 🧪 View experiment at: http://localhost:5000/#/experiments/2.\n",
      "2024/08/05 21:31:56 INFO mlflow.tracking._tracking_service.client: 🏃 View run Trial: 84 at: http://localhost:5000/#/experiments/2/runs/903da02f34874dc1977843408bc0e520.\n",
      "2024/08/05 21:31:56 INFO mlflow.tracking._tracking_service.client: 🧪 View experiment at: http://localhost:5000/#/experiments/2.\n",
      "2024/08/05 21:32:31 INFO mlflow.tracking._tracking_service.client: 🏃 View run Trial: 85 at: http://localhost:5000/#/experiments/2/runs/17974118566f42b0a489ee689006198d.\n",
      "2024/08/05 21:32:31 INFO mlflow.tracking._tracking_service.client: 🧪 View experiment at: http://localhost:5000/#/experiments/2.\n"
     ]
    },
    {
     "name": "stdout",
     "output_type": "stream",
     "text": [
      "Trial 85 achieved value: 0.4477384622968327 with  0.0333% improvement\n"
     ]
    },
    {
     "name": "stderr",
     "output_type": "stream",
     "text": [
      "2024/08/05 21:33:09 INFO mlflow.tracking._tracking_service.client: 🏃 View run Trial: 86 at: http://localhost:5000/#/experiments/2/runs/18ebb8e5b88848c39df702e2bfb30275.\n",
      "2024/08/05 21:33:09 INFO mlflow.tracking._tracking_service.client: 🧪 View experiment at: http://localhost:5000/#/experiments/2.\n",
      "2024/08/05 21:33:09 INFO mlflow.tracking._tracking_service.client: 🏃 View run Trial: 87 at: http://localhost:5000/#/experiments/2/runs/806657d45f8c429d8a7faf654c0745a6.\n",
      "2024/08/05 21:33:09 INFO mlflow.tracking._tracking_service.client: 🧪 View experiment at: http://localhost:5000/#/experiments/2.\n",
      "2024/08/05 21:33:45 INFO mlflow.tracking._tracking_service.client: 🏃 View run Trial: 88 at: http://localhost:5000/#/experiments/2/runs/f30d26bcf0bf467388bc71381c837576.\n",
      "2024/08/05 21:33:45 INFO mlflow.tracking._tracking_service.client: 🧪 View experiment at: http://localhost:5000/#/experiments/2.\n"
     ]
    },
    {
     "name": "stdout",
     "output_type": "stream",
     "text": [
      "Trial 88 achieved value: 0.44768487654172284 with  0.0120% improvement\n"
     ]
    },
    {
     "name": "stderr",
     "output_type": "stream",
     "text": [
      "2024/08/05 21:34:21 INFO mlflow.tracking._tracking_service.client: 🏃 View run Trial: 89 at: http://localhost:5000/#/experiments/2/runs/0f077f861e334542837356d5e8fe22c0.\n",
      "2024/08/05 21:34:21 INFO mlflow.tracking._tracking_service.client: 🧪 View experiment at: http://localhost:5000/#/experiments/2.\n",
      "2024/08/05 21:35:14 INFO mlflow.tracking._tracking_service.client: 🏃 View run Trial: 90 at: http://localhost:5000/#/experiments/2/runs/262a3f3ba7374cb2a14362103fb265da.\n",
      "2024/08/05 21:35:14 INFO mlflow.tracking._tracking_service.client: 🧪 View experiment at: http://localhost:5000/#/experiments/2.\n",
      "2024/08/05 21:35:51 INFO mlflow.tracking._tracking_service.client: 🏃 View run Trial: 91 at: http://localhost:5000/#/experiments/2/runs/4991e7e225944f5f816206132b47d2e1.\n",
      "2024/08/05 21:35:51 INFO mlflow.tracking._tracking_service.client: 🧪 View experiment at: http://localhost:5000/#/experiments/2.\n"
     ]
    },
    {
     "name": "stdout",
     "output_type": "stream",
     "text": [
      "Trial 91 achieved value: 0.4476687465419311 with  0.0036% improvement\n"
     ]
    },
    {
     "name": "stderr",
     "output_type": "stream",
     "text": [
      "2024/08/05 21:36:39 INFO mlflow.tracking._tracking_service.client: 🏃 View run Trial: 92 at: http://localhost:5000/#/experiments/2/runs/01775626c6cd41c6a62137ff229c6533.\n",
      "2024/08/05 21:36:39 INFO mlflow.tracking._tracking_service.client: 🧪 View experiment at: http://localhost:5000/#/experiments/2.\n",
      "2024/08/05 21:37:13 INFO mlflow.tracking._tracking_service.client: 🏃 View run Trial: 93 at: http://localhost:5000/#/experiments/2/runs/b1892579ef524876ab9d050d54fdef27.\n",
      "2024/08/05 21:37:13 INFO mlflow.tracking._tracking_service.client: 🧪 View experiment at: http://localhost:5000/#/experiments/2.\n",
      "2024/08/05 21:37:46 INFO mlflow.tracking._tracking_service.client: 🏃 View run Trial: 94 at: http://localhost:5000/#/experiments/2/runs/7a22624b03a84439a085cf5007794dae.\n",
      "2024/08/05 21:37:46 INFO mlflow.tracking._tracking_service.client: 🧪 View experiment at: http://localhost:5000/#/experiments/2.\n",
      "2024/08/05 21:38:22 INFO mlflow.tracking._tracking_service.client: 🏃 View run Trial: 95 at: http://localhost:5000/#/experiments/2/runs/0901c56703df4b45bd82b5538e6f5e3f.\n",
      "2024/08/05 21:38:22 INFO mlflow.tracking._tracking_service.client: 🧪 View experiment at: http://localhost:5000/#/experiments/2.\n",
      "2024/08/05 21:38:24 INFO mlflow.tracking._tracking_service.client: 🏃 View run Trial: 96 at: http://localhost:5000/#/experiments/2/runs/308cc485346c4d359ada165c90d17f3c.\n",
      "2024/08/05 21:38:24 INFO mlflow.tracking._tracking_service.client: 🧪 View experiment at: http://localhost:5000/#/experiments/2.\n",
      "2024/08/05 21:38:54 INFO mlflow.tracking._tracking_service.client: 🏃 View run Trial: 97 at: http://localhost:5000/#/experiments/2/runs/b88ee8b5202443a5a2809e760883c7b1.\n",
      "2024/08/05 21:38:54 INFO mlflow.tracking._tracking_service.client: 🧪 View experiment at: http://localhost:5000/#/experiments/2.\n",
      "2024/08/05 21:38:55 INFO mlflow.tracking._tracking_service.client: 🏃 View run Trial: 98 at: http://localhost:5000/#/experiments/2/runs/0bdf5f320084439b9714d6c05d3f888b.\n",
      "2024/08/05 21:38:55 INFO mlflow.tracking._tracking_service.client: 🧪 View experiment at: http://localhost:5000/#/experiments/2.\n",
      "2024/08/05 21:39:59 INFO mlflow.tracking._tracking_service.client: 🏃 View run Trial: 99 at: http://localhost:5000/#/experiments/2/runs/0e30888ae7bf49989e78a1024d2af8a9.\n",
      "2024/08/05 21:39:59 INFO mlflow.tracking._tracking_service.client: 🧪 View experiment at: http://localhost:5000/#/experiments/2.\n",
      "c:\\Users\\masso\\OneDrive\\Escritorio\\amq2-tp-final\\.venv\\lib\\site-packages\\xgboost\\core.py:158: UserWarning: [21:39:59] WARNING: C:\\buildkite-agent\\builds\\buildkite-windows-cpu-autoscaling-group-i-0015a694724fa8361-1\\xgboost\\xgboost-ci-windows\\src\\learner.cc:740: \n",
      "Parameters: { \"use_label_encoder\" } are not used.\n",
      "\n",
      "  warnings.warn(smsg, UserWarning)\n",
      "Registered model 'crime_prediction_model_dev' already exists. Creating a new version of this model...\n",
      "2024/08/05 21:40:13 INFO mlflow.store.model_registry.abstract_store: Waiting up to 300 seconds for model version to finish creation. Model name: crime_prediction_model_dev, version 9\n",
      "Created version '9' of model 'crime_prediction_model_dev'.\n",
      "2024/08/05 21:40:13 INFO mlflow.tracking._tracking_service.client: 🏃 View run best_hyperparam_2024/08/05-21:09:47\" at: http://localhost:5000/#/experiments/2/runs/52e75c0aabf74e378c19ebae87122657.\n",
      "2024/08/05 21:40:13 INFO mlflow.tracking._tracking_service.client: 🧪 View experiment at: http://localhost:5000/#/experiments/2.\n"
     ]
    }
   ],
   "source": [
    "with mlflow.start_run(experiment_id=experiment_id, run_name=run_name_parent, nested=True):\n",
    "    # Inicializamos el estudio de Optuna\n",
    "    study = optuna.create_study(direction=\"minimize\")\n",
    "\n",
    "    # Ejecutamos los trials de optimización de hiperparametros. Cada uno de estos trials se ejecuta con un run separado, pero \n",
    "    # está anidado al run padre.\n",
    "    # Notar la adición del `champion_callback` para controlar qué mensajes mostramos\n",
    "    # Para entender mejor esto ver la documentación de objective y champion_callback en optuna_aux\n",
    "    study.optimize(lambda trial: objective(trial, X_train, y_train, experiment_id), n_trials=100, callbacks=[champion_callback])\n",
    "\n",
    "    # Una vez que terminamos la búsqueda, guardamos los mejores parámetros en el run padre.\n",
    "    mlflow.log_params(study.best_params)\n",
    "    mlflow.log_metric(\"train_mae\", study.best_value)\n",
    "\n",
    "    mlflow.set_tags(\n",
    "        tags={\n",
    "            \"project\": \"Crime Prediction\",\n",
    "            \"optimizer_engine\": \"optuna\",\n",
    "            \"model_family\": \"sklearn\",\n",
    "            \"feature_set_version\": 1,\n",
    "        }\n",
    "    )\n",
    "\n",
    "    # Una vez que terminamos la búsqueda, nos quedamos con el mejor modelo y lo entrenamos\n",
    "    if study.best_params[\"model\"] == 'LinearRegression':\n",
    "        model = LinearRegression()\n",
    "    elif study.best_params[\"model\"] == 'Ridge':\n",
    "        model = Ridge(alpha=study.best_params[\"ridge_alpha\"]) \n",
    "    elif study.best_params[\"model\"] == 'SVR':\n",
    "        model = SVR(C=study.best_params[\"svr_C\"], gamma=study.best_params[\"svr_gamma\"], kernel=study.best_params[\"svr_kernel\"])\n",
    "    elif study.best_params[\"model\"] == 'DecisionTree':\n",
    "        model = DecisionTreeRegressor(max_depth=study.best_params[\"dt_max_depth\"])\n",
    "    elif study.best_params[\"model\"] == 'RandomForest':\n",
    "        model = RandomForestRegressor(n_estimators=study.best_params[\"rf_n_estimators\"], max_depth=study.best_params[\"rf_max_depth\"])\n",
    "    elif study.best_params[\"model\"] == 'AdaBoost':\n",
    "        model = AdaBoostRegressor(n_estimators=study.best_params[\"ab_n_estimators\"], learning_rate=study.best_params[\"ab_learning_rate\"])\n",
    "    elif study.best_params[\"model\"] == 'XGBoost':\n",
    "        model = XGBRegressor(n_estimators=study.best_params[\"xgb_n_estimators\"], \n",
    "                             learning_rate=study.best_params[\"xgb_learning_rate\"], \n",
    "                             max_depth=study.best_params[\"xgb_max_depth\"], \n",
    "                             use_label_encoder=False, eval_metric='logloss')\n",
    "    \n",
    "    model = model.fit(X_train, y_train)\n",
    "\n",
    "    # Testeamos el modelo y logueamos el resultado\n",
    "    y_pred = model.predict(X_test)\n",
    "    mae = mean_absolute_error(y_test, y_pred)\n",
    "    mlflow.log_metric(\"test_mae\", mae)\n",
    "\n",
    "    # Logueamos los artefactos de las gráficas de correlación y de information_gain\n",
    "    mlflow.log_figure(figure=correlation_plot, artifact_file=\"correlation_plot.png\")\n",
    "    mlflow.log_figure(figure=information_gain_plot, artifact_file=\"information_gain_plot.png\")\n",
    "\n",
    "    # Guardamos el artefacto del modelo\n",
    "    artifact_path = \"model\"\n",
    "\n",
    "    signature = infer_signature(X_train, model.predict(X_train))\n",
    "\n",
    "    mlflow.sklearn.log_model(\n",
    "        sk_model=model,\n",
    "        artifact_path=artifact_path,\n",
    "        signature=signature,\n",
    "        serialization_format='cloudpickle',\n",
    "        registered_model_name=\"crime_prediction_model_dev\",\n",
    "        metadata={\"model_data_version\": 1}\n",
    "    )\n",
    "\n",
    "    # Obtenemos la ubicación del modelo guardado en MLFlow\n",
    "    model_uri = mlflow.get_artifact_uri(artifact_path)\n"
   ]
  },
  {
   "cell_type": "markdown",
   "metadata": {},
   "source": [
    "## Testeando el modelo\n",
    "\n",
    "Una vez que el modelo fue entrenado, podemos levantarlo y testearlo de una forma agnóstica a donde está guardado."
   ]
  },
  {
   "cell_type": "code",
   "execution_count": 9,
   "metadata": {
    "ExecuteTime": {
     "end_time": "2024-06-06T12:33:57.138907Z",
     "start_time": "2024-06-06T12:33:57.074256Z"
    }
   },
   "outputs": [
    {
     "name": "stderr",
     "output_type": "stream",
     "text": [
      "Downloading artifacts: 100%|██████████| 5/5 [00:00<00:00, 36.58it/s]\n"
     ]
    }
   ],
   "source": [
    "loaded = mlflow.sklearn.load_model(model_uri)"
   ]
  },
  {
   "cell_type": "code",
   "execution_count": 10,
   "metadata": {
    "ExecuteTime": {
     "end_time": "2024-06-06T12:33:57.148986Z",
     "start_time": "2024-06-06T12:33:57.139819Z"
    }
   },
   "outputs": [
    {
     "name": "stdout",
     "output_type": "stream",
     "text": [
      "Prediction: 2.168560266494751\n",
      "Reality: 2.3978952727983707\n"
     ]
    }
   ],
   "source": [
    "import numpy as np\n",
    "\n",
    "random_row = X_test.sample(n=1)\n",
    "\n",
    "prediction = loaded.predict(np.array(random_row).reshape([1, -1]))[0]\n",
    "\n",
    "reality = y_test.loc[random_row.index[0]][\"cantidad_robos_log\"]\n",
    "\n",
    "print(f\"Prediction: {prediction}\")\n",
    "print(f\"Reality: {reality}\")"
   ]
  },
  {
   "cell_type": "markdown",
   "metadata": {},
   "source": [
    "## Registramos el modelo \n",
    "\n",
    "Realizamos el registro del modelo en MLflow. En este registro se pone el modelo productivo que luego se usará para servir en formato on-line."
   ]
  },
  {
   "cell_type": "code",
   "execution_count": 11,
   "metadata": {
    "ExecuteTime": {
     "end_time": "2024-06-06T12:33:57.237830Z",
     "start_time": "2024-06-06T12:33:57.153650Z"
    }
   },
   "outputs": [
    {
     "name": "stderr",
     "output_type": "stream",
     "text": [
      "2024/08/05 21:41:35 INFO mlflow.store.model_registry.abstract_store: Waiting up to 300 seconds for model version to finish creation. Model name: crime_prediction_model_prod, version 1\n"
     ]
    }
   ],
   "source": [
    "from mlflow import MlflowClient\n",
    "\n",
    "client = MlflowClient()\n",
    "name = \"crime_prediction_model_prod\"\n",
    "desc = \"This predicts the number of crimes in the city of Buenos Aires given the weather conditions\"\n",
    "\n",
    "# Creamos el modelo productivo\n",
    "client.create_registered_model(name=name, description=desc)\n",
    "\n",
    "# Guardamos como tag los hiper-parametros en la version del modelo\n",
    "tags = model.get_params()\n",
    "tags[\"model\"] = type(model).__name__\n",
    "tags[\"mae\"] = mae\n",
    "\n",
    "# Guardamos la version del modelo\n",
    "result = client.create_model_version(\n",
    "    name=name,\n",
    "    source=model_uri,\n",
    "    run_id=model_uri.split(\"/\")[-3],\n",
    "    tags=tags\n",
    ")\n",
    "\n",
    "# Y creamos como la version con el alias de champion para poder levantarlo en nuestro\n",
    "# proceso de servicio del modelo on-line.\n",
    "client.set_registered_model_alias(name, \"champion\", result.version)"
   ]
  }
 ],
 "metadata": {
  "kernelspec": {
   "display_name": ".venv",
   "language": "python",
   "name": "python3"
  },
  "language_info": {
   "codemirror_mode": {
    "name": "ipython",
    "version": 3
   },
   "file_extension": ".py",
   "mimetype": "text/x-python",
   "name": "python",
   "nbconvert_exporter": "python",
   "pygments_lexer": "ipython3",
   "version": "3.10.4"
  }
 },
 "nbformat": 4,
 "nbformat_minor": 4
}
