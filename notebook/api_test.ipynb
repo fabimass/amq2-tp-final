{
 "cells": [
  {
   "cell_type": "code",
   "execution_count": 30,
   "metadata": {},
   "outputs": [],
   "source": [
    "import requests\n",
    "\n",
    "# URL del endpoint\n",
    "url = \"http://localhost:8800/predict\"\n"
   ]
  },
  {
   "cell_type": "code",
   "execution_count": 31,
   "metadata": {},
   "outputs": [],
   "source": [
    "# Parámetros a enviar\n",
    "payload = {\n",
    "    \"features\": {\n",
    "        \"is_day\": 1,\n",
    "        \"sunshine_duration\": 980,\n",
    "        \"temperature_2m\": 25.0,\n",
    "        \"apparent_temperature\": 27.0,\n",
    "        \"wind_gusts_10m\": 45.0,\n",
    "        \"dew_point_2m\": 15.0,\n",
    "        \"cloud_cover\": 50,\n",
    "        \"cloud_cover_low\": 30,\n",
    "        \"cloud_cover_mid\": 20,\n",
    "        \"cloud_cover_high\": 10,\n",
    "        \"wind_speed_10m\": 20.0,\n",
    "        \"weather_code\": 1,\n",
    "        \"rain\": 0.0,\n",
    "        \"precipitation\": 0.0,\n",
    "        \"wind_direction_10m\": 154.0,\n",
    "        \"surface_pressure\": 1015.0,\n",
    "        \"pressure_msl\": 1010.0,\n",
    "        \"relative_humidity_2m\": 65\n",
    "    }\n",
    "}\n",
    "\n",
    "\n",
    "# Headers\n",
    "headers = {\n",
    "    \"Content-Type\": \"application/json\",\n",
    "}\n"
   ]
  },
  {
   "cell_type": "code",
   "execution_count": 32,
   "metadata": {},
   "outputs": [
    {
     "name": "stdout",
     "output_type": "stream",
     "text": [
      "Status Code: 200\n",
      "Response Content: {'float_output': 2.2242722511291504, 'str_output': 'Se predicen 2.2 robos según las condiciones climáticas dadas.'}\n"
     ]
    }
   ],
   "source": [
    "\n",
    "# POST request\n",
    "response = requests.post(url, json=payload, headers=headers)\n",
    "\n",
    "# Status code\n",
    "print(f\"Status Code: {response.status_code}\")\n",
    "\n",
    "# Visualización del a respuesta\n",
    "try:\n",
    "    print(f\"Response Content: {response.json()}\")\n",
    "except ValueError:\n",
    "    print(f\"Response Content: {response.text}\")  # Handle non-JSON responses"
   ]
  }
 ],
 "metadata": {
  "kernelspec": {
   "display_name": "Python 3",
   "language": "python",
   "name": "python3"
  },
  "language_info": {
   "codemirror_mode": {
    "name": "ipython",
    "version": 3
   },
   "file_extension": ".py",
   "mimetype": "text/x-python",
   "name": "python",
   "nbconvert_exporter": "python",
   "pygments_lexer": "ipython3",
   "version": "3.11.9"
  }
 },
 "nbformat": 4,
 "nbformat_minor": 2
}
